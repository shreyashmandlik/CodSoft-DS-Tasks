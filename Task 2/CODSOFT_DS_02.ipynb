{
 "cells": [
  {
   "cell_type": "code",
   "execution_count": 1,
   "metadata": {
    "id": "wZ5LEe3UGgyJ"
   },
   "outputs": [
    {
     "name": "stderr",
     "output_type": "stream",
     "text": [
      "C:\\Users\\DELL\\anaconda3\\lib\\site-packages\\scipy\\__init__.py:146: UserWarning: A NumPy version >=1.16.5 and <1.23.0 is required for this version of SciPy (detected version 1.26.3\n",
      "  warnings.warn(f\"A NumPy version >={np_minversion} and <{np_maxversion}\"\n"
     ]
    }
   ],
   "source": [
    "import pandas as pd\n",
    "import seaborn as sns\n",
    "import matplotlib.pyplot as plt\n",
    "import numpy as np"
   ]
  },
  {
   "cell_type": "code",
   "execution_count": 2,
   "metadata": {
    "colab": {
     "base_uri": "https://localhost:8080/",
     "height": 510
    },
    "id": "GO7krvk3dJri",
    "outputId": "6c4b310f-2dfa-42ba-94d9-7763e2b8db90"
   },
   "outputs": [
    {
     "data": {
      "text/html": [
       "<div>\n",
       "<style scoped>\n",
       "    .dataframe tbody tr th:only-of-type {\n",
       "        vertical-align: middle;\n",
       "    }\n",
       "\n",
       "    .dataframe tbody tr th {\n",
       "        vertical-align: top;\n",
       "    }\n",
       "\n",
       "    .dataframe thead th {\n",
       "        text-align: right;\n",
       "    }\n",
       "</style>\n",
       "<table border=\"1\" class=\"dataframe\">\n",
       "  <thead>\n",
       "    <tr style=\"text-align: right;\">\n",
       "      <th></th>\n",
       "      <th>Name</th>\n",
       "      <th>Year</th>\n",
       "      <th>Duration</th>\n",
       "      <th>Genre</th>\n",
       "      <th>Rating</th>\n",
       "      <th>Votes</th>\n",
       "      <th>Director</th>\n",
       "      <th>Actor 1</th>\n",
       "      <th>Actor 2</th>\n",
       "      <th>Actor 3</th>\n",
       "    </tr>\n",
       "  </thead>\n",
       "  <tbody>\n",
       "    <tr>\n",
       "      <th>0</th>\n",
       "      <td></td>\n",
       "      <td>NaN</td>\n",
       "      <td>NaN</td>\n",
       "      <td>Drama</td>\n",
       "      <td>NaN</td>\n",
       "      <td>NaN</td>\n",
       "      <td>J.S. Randhawa</td>\n",
       "      <td>Manmauji</td>\n",
       "      <td>Birbal</td>\n",
       "      <td>Rajendra Bhatia</td>\n",
       "    </tr>\n",
       "    <tr>\n",
       "      <th>1</th>\n",
       "      <td>#Gadhvi (He thought he was Gandhi)</td>\n",
       "      <td>(2019)</td>\n",
       "      <td>109 min</td>\n",
       "      <td>Drama</td>\n",
       "      <td>7.0</td>\n",
       "      <td>8</td>\n",
       "      <td>Gaurav Bakshi</td>\n",
       "      <td>Rasika Dugal</td>\n",
       "      <td>Vivek Ghamande</td>\n",
       "      <td>Arvind Jangid</td>\n",
       "    </tr>\n",
       "    <tr>\n",
       "      <th>2</th>\n",
       "      <td>#Homecoming</td>\n",
       "      <td>(2021)</td>\n",
       "      <td>90 min</td>\n",
       "      <td>Drama, Musical</td>\n",
       "      <td>NaN</td>\n",
       "      <td>NaN</td>\n",
       "      <td>Soumyajit Majumdar</td>\n",
       "      <td>Sayani Gupta</td>\n",
       "      <td>Plabita Borthakur</td>\n",
       "      <td>Roy Angana</td>\n",
       "    </tr>\n",
       "    <tr>\n",
       "      <th>3</th>\n",
       "      <td>#Yaaram</td>\n",
       "      <td>(2019)</td>\n",
       "      <td>110 min</td>\n",
       "      <td>Comedy, Romance</td>\n",
       "      <td>4.4</td>\n",
       "      <td>35</td>\n",
       "      <td>Ovais Khan</td>\n",
       "      <td>Prateik</td>\n",
       "      <td>Ishita Raj</td>\n",
       "      <td>Siddhant Kapoor</td>\n",
       "    </tr>\n",
       "    <tr>\n",
       "      <th>4</th>\n",
       "      <td>...And Once Again</td>\n",
       "      <td>(2010)</td>\n",
       "      <td>105 min</td>\n",
       "      <td>Drama</td>\n",
       "      <td>NaN</td>\n",
       "      <td>NaN</td>\n",
       "      <td>Amol Palekar</td>\n",
       "      <td>Rajat Kapoor</td>\n",
       "      <td>Rituparna Sengupta</td>\n",
       "      <td>Antara Mali</td>\n",
       "    </tr>\n",
       "    <tr>\n",
       "      <th>...</th>\n",
       "      <td>...</td>\n",
       "      <td>...</td>\n",
       "      <td>...</td>\n",
       "      <td>...</td>\n",
       "      <td>...</td>\n",
       "      <td>...</td>\n",
       "      <td>...</td>\n",
       "      <td>...</td>\n",
       "      <td>...</td>\n",
       "      <td>...</td>\n",
       "    </tr>\n",
       "    <tr>\n",
       "      <th>15504</th>\n",
       "      <td>Zulm Ko Jala Doonga</td>\n",
       "      <td>(1988)</td>\n",
       "      <td>NaN</td>\n",
       "      <td>Action</td>\n",
       "      <td>4.6</td>\n",
       "      <td>11</td>\n",
       "      <td>Mahendra Shah</td>\n",
       "      <td>Naseeruddin Shah</td>\n",
       "      <td>Sumeet Saigal</td>\n",
       "      <td>Suparna Anand</td>\n",
       "    </tr>\n",
       "    <tr>\n",
       "      <th>15505</th>\n",
       "      <td>Zulmi</td>\n",
       "      <td>(1999)</td>\n",
       "      <td>129 min</td>\n",
       "      <td>Action, Drama</td>\n",
       "      <td>4.5</td>\n",
       "      <td>655</td>\n",
       "      <td>Kuku Kohli</td>\n",
       "      <td>Akshay Kumar</td>\n",
       "      <td>Twinkle Khanna</td>\n",
       "      <td>Aruna Irani</td>\n",
       "    </tr>\n",
       "    <tr>\n",
       "      <th>15506</th>\n",
       "      <td>Zulmi Raj</td>\n",
       "      <td>(2005)</td>\n",
       "      <td>NaN</td>\n",
       "      <td>Action</td>\n",
       "      <td>NaN</td>\n",
       "      <td>NaN</td>\n",
       "      <td>Kiran Thej</td>\n",
       "      <td>Sangeeta Tiwari</td>\n",
       "      <td>NaN</td>\n",
       "      <td>NaN</td>\n",
       "    </tr>\n",
       "    <tr>\n",
       "      <th>15507</th>\n",
       "      <td>Zulmi Shikari</td>\n",
       "      <td>(1988)</td>\n",
       "      <td>NaN</td>\n",
       "      <td>Action</td>\n",
       "      <td>NaN</td>\n",
       "      <td>NaN</td>\n",
       "      <td>NaN</td>\n",
       "      <td>NaN</td>\n",
       "      <td>NaN</td>\n",
       "      <td>NaN</td>\n",
       "    </tr>\n",
       "    <tr>\n",
       "      <th>15508</th>\n",
       "      <td>Zulm-O-Sitam</td>\n",
       "      <td>(1998)</td>\n",
       "      <td>130 min</td>\n",
       "      <td>Action, Drama</td>\n",
       "      <td>6.2</td>\n",
       "      <td>20</td>\n",
       "      <td>K.C. Bokadia</td>\n",
       "      <td>Dharmendra</td>\n",
       "      <td>Jaya Prada</td>\n",
       "      <td>Arjun Sarja</td>\n",
       "    </tr>\n",
       "  </tbody>\n",
       "</table>\n",
       "<p>15509 rows × 10 columns</p>\n",
       "</div>"
      ],
      "text/plain": [
       "                                     Name    Year Duration            Genre  \\\n",
       "0                                             NaN      NaN            Drama   \n",
       "1      #Gadhvi (He thought he was Gandhi)  (2019)  109 min            Drama   \n",
       "2                             #Homecoming  (2021)   90 min   Drama, Musical   \n",
       "3                                 #Yaaram  (2019)  110 min  Comedy, Romance   \n",
       "4                       ...And Once Again  (2010)  105 min            Drama   \n",
       "...                                   ...     ...      ...              ...   \n",
       "15504                 Zulm Ko Jala Doonga  (1988)      NaN           Action   \n",
       "15505                               Zulmi  (1999)  129 min    Action, Drama   \n",
       "15506                           Zulmi Raj  (2005)      NaN           Action   \n",
       "15507                       Zulmi Shikari  (1988)      NaN           Action   \n",
       "15508                        Zulm-O-Sitam  (1998)  130 min    Action, Drama   \n",
       "\n",
       "       Rating Votes            Director           Actor 1             Actor 2  \\\n",
       "0         NaN   NaN       J.S. Randhawa          Manmauji              Birbal   \n",
       "1         7.0     8       Gaurav Bakshi      Rasika Dugal      Vivek Ghamande   \n",
       "2         NaN   NaN  Soumyajit Majumdar      Sayani Gupta   Plabita Borthakur   \n",
       "3         4.4    35          Ovais Khan           Prateik          Ishita Raj   \n",
       "4         NaN   NaN        Amol Palekar      Rajat Kapoor  Rituparna Sengupta   \n",
       "...       ...   ...                 ...               ...                 ...   \n",
       "15504     4.6    11       Mahendra Shah  Naseeruddin Shah       Sumeet Saigal   \n",
       "15505     4.5   655          Kuku Kohli      Akshay Kumar      Twinkle Khanna   \n",
       "15506     NaN   NaN          Kiran Thej   Sangeeta Tiwari                 NaN   \n",
       "15507     NaN   NaN                 NaN               NaN                 NaN   \n",
       "15508     6.2    20        K.C. Bokadia        Dharmendra          Jaya Prada   \n",
       "\n",
       "               Actor 3  \n",
       "0      Rajendra Bhatia  \n",
       "1        Arvind Jangid  \n",
       "2           Roy Angana  \n",
       "3      Siddhant Kapoor  \n",
       "4          Antara Mali  \n",
       "...                ...  \n",
       "15504    Suparna Anand  \n",
       "15505      Aruna Irani  \n",
       "15506              NaN  \n",
       "15507              NaN  \n",
       "15508      Arjun Sarja  \n",
       "\n",
       "[15509 rows x 10 columns]"
      ]
     },
     "execution_count": 2,
     "metadata": {},
     "output_type": "execute_result"
    }
   ],
   "source": [
    "movie_data = pd.read_csv(\"C:\\\\Users\\\\DELL\\\\OneDrive\\\\Desktop\\\\Codsoft\\\\Task 2\\\\prediction.csv\", encoding=\"latin1\")\n",
    "movie_data"
   ]
  },
  {
   "cell_type": "code",
   "execution_count": 3,
   "metadata": {
    "colab": {
     "base_uri": "https://localhost:8080/",
     "height": 206
    },
    "id": "u-3ae-82dS6Q",
    "outputId": "10e29756-7bdb-4edc-d64f-87dc1e7aac6a"
   },
   "outputs": [
    {
     "data": {
      "text/html": [
       "<div>\n",
       "<style scoped>\n",
       "    .dataframe tbody tr th:only-of-type {\n",
       "        vertical-align: middle;\n",
       "    }\n",
       "\n",
       "    .dataframe tbody tr th {\n",
       "        vertical-align: top;\n",
       "    }\n",
       "\n",
       "    .dataframe thead th {\n",
       "        text-align: right;\n",
       "    }\n",
       "</style>\n",
       "<table border=\"1\" class=\"dataframe\">\n",
       "  <thead>\n",
       "    <tr style=\"text-align: right;\">\n",
       "      <th></th>\n",
       "      <th>Name</th>\n",
       "      <th>Year</th>\n",
       "      <th>Duration</th>\n",
       "      <th>Genre</th>\n",
       "      <th>Rating</th>\n",
       "      <th>Votes</th>\n",
       "      <th>Director</th>\n",
       "      <th>Actor 1</th>\n",
       "      <th>Actor 2</th>\n",
       "      <th>Actor 3</th>\n",
       "    </tr>\n",
       "  </thead>\n",
       "  <tbody>\n",
       "    <tr>\n",
       "      <th>0</th>\n",
       "      <td></td>\n",
       "      <td>NaN</td>\n",
       "      <td>NaN</td>\n",
       "      <td>Drama</td>\n",
       "      <td>NaN</td>\n",
       "      <td>NaN</td>\n",
       "      <td>J.S. Randhawa</td>\n",
       "      <td>Manmauji</td>\n",
       "      <td>Birbal</td>\n",
       "      <td>Rajendra Bhatia</td>\n",
       "    </tr>\n",
       "    <tr>\n",
       "      <th>1</th>\n",
       "      <td>#Gadhvi (He thought he was Gandhi)</td>\n",
       "      <td>(2019)</td>\n",
       "      <td>109 min</td>\n",
       "      <td>Drama</td>\n",
       "      <td>7.0</td>\n",
       "      <td>8</td>\n",
       "      <td>Gaurav Bakshi</td>\n",
       "      <td>Rasika Dugal</td>\n",
       "      <td>Vivek Ghamande</td>\n",
       "      <td>Arvind Jangid</td>\n",
       "    </tr>\n",
       "    <tr>\n",
       "      <th>2</th>\n",
       "      <td>#Homecoming</td>\n",
       "      <td>(2021)</td>\n",
       "      <td>90 min</td>\n",
       "      <td>Drama, Musical</td>\n",
       "      <td>NaN</td>\n",
       "      <td>NaN</td>\n",
       "      <td>Soumyajit Majumdar</td>\n",
       "      <td>Sayani Gupta</td>\n",
       "      <td>Plabita Borthakur</td>\n",
       "      <td>Roy Angana</td>\n",
       "    </tr>\n",
       "    <tr>\n",
       "      <th>3</th>\n",
       "      <td>#Yaaram</td>\n",
       "      <td>(2019)</td>\n",
       "      <td>110 min</td>\n",
       "      <td>Comedy, Romance</td>\n",
       "      <td>4.4</td>\n",
       "      <td>35</td>\n",
       "      <td>Ovais Khan</td>\n",
       "      <td>Prateik</td>\n",
       "      <td>Ishita Raj</td>\n",
       "      <td>Siddhant Kapoor</td>\n",
       "    </tr>\n",
       "    <tr>\n",
       "      <th>4</th>\n",
       "      <td>...And Once Again</td>\n",
       "      <td>(2010)</td>\n",
       "      <td>105 min</td>\n",
       "      <td>Drama</td>\n",
       "      <td>NaN</td>\n",
       "      <td>NaN</td>\n",
       "      <td>Amol Palekar</td>\n",
       "      <td>Rajat Kapoor</td>\n",
       "      <td>Rituparna Sengupta</td>\n",
       "      <td>Antara Mali</td>\n",
       "    </tr>\n",
       "  </tbody>\n",
       "</table>\n",
       "</div>"
      ],
      "text/plain": [
       "                                 Name    Year Duration            Genre  \\\n",
       "0                                         NaN      NaN            Drama   \n",
       "1  #Gadhvi (He thought he was Gandhi)  (2019)  109 min            Drama   \n",
       "2                         #Homecoming  (2021)   90 min   Drama, Musical   \n",
       "3                             #Yaaram  (2019)  110 min  Comedy, Romance   \n",
       "4                   ...And Once Again  (2010)  105 min            Drama   \n",
       "\n",
       "   Rating Votes            Director       Actor 1             Actor 2  \\\n",
       "0     NaN   NaN       J.S. Randhawa      Manmauji              Birbal   \n",
       "1     7.0     8       Gaurav Bakshi  Rasika Dugal      Vivek Ghamande   \n",
       "2     NaN   NaN  Soumyajit Majumdar  Sayani Gupta   Plabita Borthakur   \n",
       "3     4.4    35          Ovais Khan       Prateik          Ishita Raj   \n",
       "4     NaN   NaN        Amol Palekar  Rajat Kapoor  Rituparna Sengupta   \n",
       "\n",
       "           Actor 3  \n",
       "0  Rajendra Bhatia  \n",
       "1    Arvind Jangid  \n",
       "2       Roy Angana  \n",
       "3  Siddhant Kapoor  \n",
       "4      Antara Mali  "
      ]
     },
     "execution_count": 3,
     "metadata": {},
     "output_type": "execute_result"
    }
   ],
   "source": [
    "movie_data.head()"
   ]
  },
  {
   "cell_type": "code",
   "execution_count": 4,
   "metadata": {
    "colab": {
     "base_uri": "https://localhost:8080/"
    },
    "id": "IHvH9SWSgB_I",
    "outputId": "84faf044-0730-46a3-bbf4-0504776ea0e8"
   },
   "outputs": [
    {
     "name": "stdout",
     "output_type": "stream",
     "text": [
      "<class 'pandas.core.frame.DataFrame'>\n",
      "RangeIndex: 15509 entries, 0 to 15508\n",
      "Data columns (total 10 columns):\n",
      " #   Column    Non-Null Count  Dtype  \n",
      "---  ------    --------------  -----  \n",
      " 0   Name      15509 non-null  object \n",
      " 1   Year      14981 non-null  object \n",
      " 2   Duration  7240 non-null   object \n",
      " 3   Genre     13632 non-null  object \n",
      " 4   Rating    7919 non-null   float64\n",
      " 5   Votes     7920 non-null   object \n",
      " 6   Director  14984 non-null  object \n",
      " 7   Actor 1   13892 non-null  object \n",
      " 8   Actor 2   13125 non-null  object \n",
      " 9   Actor 3   12365 non-null  object \n",
      "dtypes: float64(1), object(9)\n",
      "memory usage: 1.2+ MB\n"
     ]
    }
   ],
   "source": [
    "movie_data.info()"
   ]
  },
  {
   "cell_type": "code",
   "execution_count": 5,
   "metadata": {
    "colab": {
     "base_uri": "https://localhost:8080/",
     "height": 300
    },
    "id": "dviOI3ePgIvA",
    "outputId": "e411592b-355a-43db-9c19-4099645152b7"
   },
   "outputs": [
    {
     "data": {
      "text/html": [
       "<div>\n",
       "<style scoped>\n",
       "    .dataframe tbody tr th:only-of-type {\n",
       "        vertical-align: middle;\n",
       "    }\n",
       "\n",
       "    .dataframe tbody tr th {\n",
       "        vertical-align: top;\n",
       "    }\n",
       "\n",
       "    .dataframe thead th {\n",
       "        text-align: right;\n",
       "    }\n",
       "</style>\n",
       "<table border=\"1\" class=\"dataframe\">\n",
       "  <thead>\n",
       "    <tr style=\"text-align: right;\">\n",
       "      <th></th>\n",
       "      <th>Rating</th>\n",
       "    </tr>\n",
       "  </thead>\n",
       "  <tbody>\n",
       "    <tr>\n",
       "      <th>count</th>\n",
       "      <td>7919.000000</td>\n",
       "    </tr>\n",
       "    <tr>\n",
       "      <th>mean</th>\n",
       "      <td>5.841621</td>\n",
       "    </tr>\n",
       "    <tr>\n",
       "      <th>std</th>\n",
       "      <td>1.381777</td>\n",
       "    </tr>\n",
       "    <tr>\n",
       "      <th>min</th>\n",
       "      <td>1.100000</td>\n",
       "    </tr>\n",
       "    <tr>\n",
       "      <th>25%</th>\n",
       "      <td>4.900000</td>\n",
       "    </tr>\n",
       "    <tr>\n",
       "      <th>50%</th>\n",
       "      <td>6.000000</td>\n",
       "    </tr>\n",
       "    <tr>\n",
       "      <th>75%</th>\n",
       "      <td>6.800000</td>\n",
       "    </tr>\n",
       "    <tr>\n",
       "      <th>max</th>\n",
       "      <td>10.000000</td>\n",
       "    </tr>\n",
       "  </tbody>\n",
       "</table>\n",
       "</div>"
      ],
      "text/plain": [
       "            Rating\n",
       "count  7919.000000\n",
       "mean      5.841621\n",
       "std       1.381777\n",
       "min       1.100000\n",
       "25%       4.900000\n",
       "50%       6.000000\n",
       "75%       6.800000\n",
       "max      10.000000"
      ]
     },
     "execution_count": 5,
     "metadata": {},
     "output_type": "execute_result"
    }
   ],
   "source": [
    "movie_data.describe()"
   ]
  },
  {
   "cell_type": "code",
   "execution_count": 6,
   "metadata": {
    "colab": {
     "base_uri": "https://localhost:8080/"
    },
    "id": "R31MHxFrgN_f",
    "outputId": "cd7bce3a-122b-43d8-b072-77d176a6ce87"
   },
   "outputs": [
    {
     "data": {
      "text/plain": [
       "Name           0\n",
       "Year         528\n",
       "Duration    8269\n",
       "Genre       1877\n",
       "Rating      7590\n",
       "Votes       7589\n",
       "Director     525\n",
       "Actor 1     1617\n",
       "Actor 2     2384\n",
       "Actor 3     3144\n",
       "dtype: int64"
      ]
     },
     "execution_count": 6,
     "metadata": {},
     "output_type": "execute_result"
    }
   ],
   "source": [
    "movie_data.isnull().sum()"
   ]
  },
  {
   "cell_type": "code",
   "execution_count": 7,
   "metadata": {
    "id": "WrSWV21XZ5QQ"
   },
   "outputs": [],
   "source": [
    "movie_data.dropna(subset=[\"Rating\"], inplace = True)"
   ]
  },
  {
   "cell_type": "code",
   "execution_count": 8,
   "metadata": {
    "colab": {
     "base_uri": "https://localhost:8080/"
    },
    "id": "SCmLqNKsaKVg",
    "outputId": "8a0bd73b-abf3-4d0c-d5f5-0086c53a4cc1"
   },
   "outputs": [
    {
     "data": {
      "text/plain": [
       "Name           0\n",
       "Year           0\n",
       "Duration    2068\n",
       "Genre        102\n",
       "Rating         0\n",
       "Votes          0\n",
       "Director       5\n",
       "Actor 1      125\n",
       "Actor 2      200\n",
       "Actor 3      292\n",
       "dtype: int64"
      ]
     },
     "execution_count": 8,
     "metadata": {},
     "output_type": "execute_result"
    }
   ],
   "source": [
    "movie_data.isnull().sum()"
   ]
  },
  {
   "cell_type": "code",
   "execution_count": 9,
   "metadata": {
    "id": "NXiPaivsaKRC"
   },
   "outputs": [],
   "source": [
    "movie_data.dropna(subset=['Actor 1','Actor 2','Actor 3','Director','Genre'],inplace=True)"
   ]
  },
  {
   "cell_type": "code",
   "execution_count": 10,
   "metadata": {
    "colab": {
     "base_uri": "https://localhost:8080/"
    },
    "id": "z4VYoYeRaKKy",
    "outputId": "ac5abcf1-b5d6-40bb-b491-200c7d964a2c"
   },
   "outputs": [
    {
     "data": {
      "text/plain": [
       "Name           0\n",
       "Year           0\n",
       "Duration    1899\n",
       "Genre          0\n",
       "Rating         0\n",
       "Votes          0\n",
       "Director       0\n",
       "Actor 1        0\n",
       "Actor 2        0\n",
       "Actor 3        0\n",
       "dtype: int64"
      ]
     },
     "execution_count": 10,
     "metadata": {},
     "output_type": "execute_result"
    }
   ],
   "source": [
    "movie_data.isnull().sum()"
   ]
  },
  {
   "cell_type": "code",
   "execution_count": 11,
   "metadata": {
    "colab": {
     "base_uri": "https://localhost:8080/",
     "height": 206
    },
    "id": "74Tn4-hUbUkQ",
    "outputId": "1c51ba13-45a6-4a80-b9ee-028ddac0116e"
   },
   "outputs": [
    {
     "data": {
      "text/html": [
       "<div>\n",
       "<style scoped>\n",
       "    .dataframe tbody tr th:only-of-type {\n",
       "        vertical-align: middle;\n",
       "    }\n",
       "\n",
       "    .dataframe tbody tr th {\n",
       "        vertical-align: top;\n",
       "    }\n",
       "\n",
       "    .dataframe thead th {\n",
       "        text-align: right;\n",
       "    }\n",
       "</style>\n",
       "<table border=\"1\" class=\"dataframe\">\n",
       "  <thead>\n",
       "    <tr style=\"text-align: right;\">\n",
       "      <th></th>\n",
       "      <th>Name</th>\n",
       "      <th>Year</th>\n",
       "      <th>Duration</th>\n",
       "      <th>Genre</th>\n",
       "      <th>Rating</th>\n",
       "      <th>Votes</th>\n",
       "      <th>Director</th>\n",
       "      <th>Actor 1</th>\n",
       "      <th>Actor 2</th>\n",
       "      <th>Actor 3</th>\n",
       "    </tr>\n",
       "  </thead>\n",
       "  <tbody>\n",
       "    <tr>\n",
       "      <th>1</th>\n",
       "      <td>#Gadhvi (He thought he was Gandhi)</td>\n",
       "      <td>(2019)</td>\n",
       "      <td>109 min</td>\n",
       "      <td>Drama</td>\n",
       "      <td>7.0</td>\n",
       "      <td>8</td>\n",
       "      <td>Gaurav Bakshi</td>\n",
       "      <td>Rasika Dugal</td>\n",
       "      <td>Vivek Ghamande</td>\n",
       "      <td>Arvind Jangid</td>\n",
       "    </tr>\n",
       "    <tr>\n",
       "      <th>3</th>\n",
       "      <td>#Yaaram</td>\n",
       "      <td>(2019)</td>\n",
       "      <td>110 min</td>\n",
       "      <td>Comedy, Romance</td>\n",
       "      <td>4.4</td>\n",
       "      <td>35</td>\n",
       "      <td>Ovais Khan</td>\n",
       "      <td>Prateik</td>\n",
       "      <td>Ishita Raj</td>\n",
       "      <td>Siddhant Kapoor</td>\n",
       "    </tr>\n",
       "    <tr>\n",
       "      <th>5</th>\n",
       "      <td>...Aur Pyaar Ho Gaya</td>\n",
       "      <td>(1997)</td>\n",
       "      <td>147 min</td>\n",
       "      <td>Comedy, Drama, Musical</td>\n",
       "      <td>4.7</td>\n",
       "      <td>827</td>\n",
       "      <td>Rahul Rawail</td>\n",
       "      <td>Bobby Deol</td>\n",
       "      <td>Aishwarya Rai Bachchan</td>\n",
       "      <td>Shammi Kapoor</td>\n",
       "    </tr>\n",
       "    <tr>\n",
       "      <th>6</th>\n",
       "      <td>...Yahaan</td>\n",
       "      <td>(2005)</td>\n",
       "      <td>142 min</td>\n",
       "      <td>Drama, Romance, War</td>\n",
       "      <td>7.4</td>\n",
       "      <td>1,086</td>\n",
       "      <td>Shoojit Sircar</td>\n",
       "      <td>Jimmy Sheirgill</td>\n",
       "      <td>Minissha Lamba</td>\n",
       "      <td>Yashpal Sharma</td>\n",
       "    </tr>\n",
       "    <tr>\n",
       "      <th>8</th>\n",
       "      <td>?: A Question Mark</td>\n",
       "      <td>(2012)</td>\n",
       "      <td>82 min</td>\n",
       "      <td>Horror, Mystery, Thriller</td>\n",
       "      <td>5.6</td>\n",
       "      <td>326</td>\n",
       "      <td>Allyson Patel</td>\n",
       "      <td>Yash Dave</td>\n",
       "      <td>Muntazir Ahmad</td>\n",
       "      <td>Kiran Bhatia</td>\n",
       "    </tr>\n",
       "  </tbody>\n",
       "</table>\n",
       "</div>"
      ],
      "text/plain": [
       "                                 Name    Year Duration  \\\n",
       "1  #Gadhvi (He thought he was Gandhi)  (2019)  109 min   \n",
       "3                             #Yaaram  (2019)  110 min   \n",
       "5                ...Aur Pyaar Ho Gaya  (1997)  147 min   \n",
       "6                           ...Yahaan  (2005)  142 min   \n",
       "8                  ?: A Question Mark  (2012)   82 min   \n",
       "\n",
       "                       Genre  Rating  Votes        Director          Actor 1  \\\n",
       "1                      Drama     7.0      8   Gaurav Bakshi     Rasika Dugal   \n",
       "3            Comedy, Romance     4.4     35      Ovais Khan          Prateik   \n",
       "5     Comedy, Drama, Musical     4.7    827    Rahul Rawail       Bobby Deol   \n",
       "6        Drama, Romance, War     7.4  1,086  Shoojit Sircar  Jimmy Sheirgill   \n",
       "8  Horror, Mystery, Thriller     5.6    326   Allyson Patel        Yash Dave   \n",
       "\n",
       "                  Actor 2          Actor 3  \n",
       "1          Vivek Ghamande    Arvind Jangid  \n",
       "3              Ishita Raj  Siddhant Kapoor  \n",
       "5  Aishwarya Rai Bachchan    Shammi Kapoor  \n",
       "6          Minissha Lamba   Yashpal Sharma  \n",
       "8          Muntazir Ahmad     Kiran Bhatia  "
      ]
     },
     "execution_count": 11,
     "metadata": {},
     "output_type": "execute_result"
    }
   ],
   "source": [
    "movie_data.head()"
   ]
  },
  {
   "cell_type": "code",
   "execution_count": 12,
   "metadata": {
    "id": "8CMJHUn6aKCq"
   },
   "outputs": [],
   "source": [
    "movie_data['Votes'] = movie_data['Votes'].str.replace(',','').astype(int)"
   ]
  },
  {
   "cell_type": "code",
   "execution_count": 13,
   "metadata": {
    "id": "_bhY4uCFdk4v"
   },
   "outputs": [],
   "source": [
    "movie_data['Year'] = movie_data['Year'].str.strip('()').astype(int)"
   ]
  },
  {
   "cell_type": "code",
   "execution_count": 14,
   "metadata": {
    "id": "b-vmhBjdd2mG"
   },
   "outputs": [],
   "source": [
    "movie_data['Duration'] = movie_data['Duration'].str.strip('min')"
   ]
  },
  {
   "cell_type": "code",
   "execution_count": 15,
   "metadata": {
    "id": "EXWMsMPteF8X"
   },
   "outputs": [],
   "source": [
    "movie_data['Duration'].fillna(movie_data['Duration'].median(),inplace=True)"
   ]
  },
  {
   "cell_type": "code",
   "execution_count": 16,
   "metadata": {
    "colab": {
     "base_uri": "https://localhost:8080/"
    },
    "id": "zIbk70T6eW73",
    "outputId": "f59bd93b-9cfb-4b8f-bea5-4e90c7b5b153"
   },
   "outputs": [
    {
     "data": {
      "text/plain": [
       "Name        0\n",
       "Year        0\n",
       "Duration    0\n",
       "Genre       0\n",
       "Rating      0\n",
       "Votes       0\n",
       "Director    0\n",
       "Actor 1     0\n",
       "Actor 2     0\n",
       "Actor 3     0\n",
       "dtype: int64"
      ]
     },
     "execution_count": 16,
     "metadata": {},
     "output_type": "execute_result"
    }
   ],
   "source": [
    "movie_data.isnull().sum()"
   ]
  },
  {
   "cell_type": "code",
   "execution_count": 17,
   "metadata": {
    "colab": {
     "base_uri": "https://localhost:8080/"
    },
    "id": "FRCXgbkNi28k",
    "outputId": "8dc9842c-9319-41e0-c7a7-a05ec2d390b7"
   },
   "outputs": [
    {
     "name": "stdout",
     "output_type": "stream",
     "text": [
      "<class 'pandas.core.frame.DataFrame'>\n",
      "Int64Index: 7558 entries, 1 to 15508\n",
      "Data columns (total 10 columns):\n",
      " #   Column    Non-Null Count  Dtype  \n",
      "---  ------    --------------  -----  \n",
      " 0   Name      7558 non-null   object \n",
      " 1   Year      7558 non-null   int32  \n",
      " 2   Duration  7558 non-null   object \n",
      " 3   Genre     7558 non-null   object \n",
      " 4   Rating    7558 non-null   float64\n",
      " 5   Votes     7558 non-null   int32  \n",
      " 6   Director  7558 non-null   object \n",
      " 7   Actor 1   7558 non-null   object \n",
      " 8   Actor 2   7558 non-null   object \n",
      " 9   Actor 3   7558 non-null   object \n",
      "dtypes: float64(1), int32(2), object(7)\n",
      "memory usage: 590.5+ KB\n"
     ]
    }
   ],
   "source": [
    "movie_data.info()"
   ]
  },
  {
   "cell_type": "code",
   "execution_count": 18,
   "metadata": {
    "colab": {
     "base_uri": "https://localhost:8080/",
     "height": 206
    },
    "id": "GaPlFGI7kB9r",
    "outputId": "67b7d94f-67b8-43e8-8a3a-43f403ac0af4"
   },
   "outputs": [
    {
     "data": {
      "text/html": [
       "<div>\n",
       "<style scoped>\n",
       "    .dataframe tbody tr th:only-of-type {\n",
       "        vertical-align: middle;\n",
       "    }\n",
       "\n",
       "    .dataframe tbody tr th {\n",
       "        vertical-align: top;\n",
       "    }\n",
       "\n",
       "    .dataframe thead th {\n",
       "        text-align: right;\n",
       "    }\n",
       "</style>\n",
       "<table border=\"1\" class=\"dataframe\">\n",
       "  <thead>\n",
       "    <tr style=\"text-align: right;\">\n",
       "      <th></th>\n",
       "      <th>Name</th>\n",
       "      <th>Year</th>\n",
       "      <th>Duration</th>\n",
       "      <th>Genre</th>\n",
       "      <th>Rating</th>\n",
       "      <th>Votes</th>\n",
       "      <th>Director</th>\n",
       "      <th>Actor 1</th>\n",
       "      <th>Actor 2</th>\n",
       "      <th>Actor 3</th>\n",
       "    </tr>\n",
       "  </thead>\n",
       "  <tbody>\n",
       "    <tr>\n",
       "      <th>1</th>\n",
       "      <td>#Gadhvi (He thought he was Gandhi)</td>\n",
       "      <td>2019</td>\n",
       "      <td>109</td>\n",
       "      <td>Drama</td>\n",
       "      <td>7.0</td>\n",
       "      <td>8</td>\n",
       "      <td>Gaurav Bakshi</td>\n",
       "      <td>Rasika Dugal</td>\n",
       "      <td>Vivek Ghamande</td>\n",
       "      <td>Arvind Jangid</td>\n",
       "    </tr>\n",
       "    <tr>\n",
       "      <th>3</th>\n",
       "      <td>#Yaaram</td>\n",
       "      <td>2019</td>\n",
       "      <td>110</td>\n",
       "      <td>Comedy, Romance</td>\n",
       "      <td>4.4</td>\n",
       "      <td>35</td>\n",
       "      <td>Ovais Khan</td>\n",
       "      <td>Prateik</td>\n",
       "      <td>Ishita Raj</td>\n",
       "      <td>Siddhant Kapoor</td>\n",
       "    </tr>\n",
       "    <tr>\n",
       "      <th>5</th>\n",
       "      <td>...Aur Pyaar Ho Gaya</td>\n",
       "      <td>1997</td>\n",
       "      <td>147</td>\n",
       "      <td>Comedy, Drama, Musical</td>\n",
       "      <td>4.7</td>\n",
       "      <td>827</td>\n",
       "      <td>Rahul Rawail</td>\n",
       "      <td>Bobby Deol</td>\n",
       "      <td>Aishwarya Rai Bachchan</td>\n",
       "      <td>Shammi Kapoor</td>\n",
       "    </tr>\n",
       "    <tr>\n",
       "      <th>6</th>\n",
       "      <td>...Yahaan</td>\n",
       "      <td>2005</td>\n",
       "      <td>142</td>\n",
       "      <td>Drama, Romance, War</td>\n",
       "      <td>7.4</td>\n",
       "      <td>1086</td>\n",
       "      <td>Shoojit Sircar</td>\n",
       "      <td>Jimmy Sheirgill</td>\n",
       "      <td>Minissha Lamba</td>\n",
       "      <td>Yashpal Sharma</td>\n",
       "    </tr>\n",
       "    <tr>\n",
       "      <th>8</th>\n",
       "      <td>?: A Question Mark</td>\n",
       "      <td>2012</td>\n",
       "      <td>82</td>\n",
       "      <td>Horror, Mystery, Thriller</td>\n",
       "      <td>5.6</td>\n",
       "      <td>326</td>\n",
       "      <td>Allyson Patel</td>\n",
       "      <td>Yash Dave</td>\n",
       "      <td>Muntazir Ahmad</td>\n",
       "      <td>Kiran Bhatia</td>\n",
       "    </tr>\n",
       "  </tbody>\n",
       "</table>\n",
       "</div>"
      ],
      "text/plain": [
       "                                 Name  Year Duration  \\\n",
       "1  #Gadhvi (He thought he was Gandhi)  2019     109    \n",
       "3                             #Yaaram  2019     110    \n",
       "5                ...Aur Pyaar Ho Gaya  1997     147    \n",
       "6                           ...Yahaan  2005     142    \n",
       "8                  ?: A Question Mark  2012      82    \n",
       "\n",
       "                       Genre  Rating  Votes        Director          Actor 1  \\\n",
       "1                      Drama     7.0      8   Gaurav Bakshi     Rasika Dugal   \n",
       "3            Comedy, Romance     4.4     35      Ovais Khan          Prateik   \n",
       "5     Comedy, Drama, Musical     4.7    827    Rahul Rawail       Bobby Deol   \n",
       "6        Drama, Romance, War     7.4   1086  Shoojit Sircar  Jimmy Sheirgill   \n",
       "8  Horror, Mystery, Thriller     5.6    326   Allyson Patel        Yash Dave   \n",
       "\n",
       "                  Actor 2          Actor 3  \n",
       "1          Vivek Ghamande    Arvind Jangid  \n",
       "3              Ishita Raj  Siddhant Kapoor  \n",
       "5  Aishwarya Rai Bachchan    Shammi Kapoor  \n",
       "6          Minissha Lamba   Yashpal Sharma  \n",
       "8          Muntazir Ahmad     Kiran Bhatia  "
      ]
     },
     "execution_count": 18,
     "metadata": {},
     "output_type": "execute_result"
    }
   ],
   "source": [
    "movie_data.head()"
   ]
  },
  {
   "cell_type": "code",
   "execution_count": 19,
   "metadata": {
    "colab": {
     "base_uri": "https://localhost:8080/",
     "height": 363
    },
    "id": "VLmxNS23jfg7",
    "outputId": "7431fed9-6d21-41d3-9c37-7e9e33ee5de2"
   },
   "outputs": [
    {
     "data": {
      "text/html": [
       "<div>\n",
       "<style scoped>\n",
       "    .dataframe tbody tr th:only-of-type {\n",
       "        vertical-align: middle;\n",
       "    }\n",
       "\n",
       "    .dataframe tbody tr th {\n",
       "        vertical-align: top;\n",
       "    }\n",
       "\n",
       "    .dataframe thead th {\n",
       "        text-align: right;\n",
       "    }\n",
       "</style>\n",
       "<table border=\"1\" class=\"dataframe\">\n",
       "  <thead>\n",
       "    <tr style=\"text-align: right;\">\n",
       "      <th></th>\n",
       "      <th>Name</th>\n",
       "      <th>Year</th>\n",
       "      <th>Duration</th>\n",
       "      <th>Genre</th>\n",
       "      <th>Rating</th>\n",
       "      <th>Votes</th>\n",
       "      <th>Director</th>\n",
       "      <th>Actor 1</th>\n",
       "      <th>Actor 2</th>\n",
       "      <th>Actor 3</th>\n",
       "    </tr>\n",
       "  </thead>\n",
       "  <tbody>\n",
       "    <tr>\n",
       "      <th>8339</th>\n",
       "      <td>Love Qubool Hai</td>\n",
       "      <td>2020</td>\n",
       "      <td>94</td>\n",
       "      <td>Drama, Romance</td>\n",
       "      <td>10.0</td>\n",
       "      <td>5</td>\n",
       "      <td>Saif Ali Sayeed</td>\n",
       "      <td>Ahaan Jha</td>\n",
       "      <td>Mahesh Narayan</td>\n",
       "      <td>Rajasree Rajakumari</td>\n",
       "    </tr>\n",
       "    <tr>\n",
       "      <th>5410</th>\n",
       "      <td>Half Songs</td>\n",
       "      <td>2021</td>\n",
       "      <td>79</td>\n",
       "      <td>Music, Romance</td>\n",
       "      <td>9.7</td>\n",
       "      <td>7</td>\n",
       "      <td>Sriram Raja</td>\n",
       "      <td>Raj Banerjee</td>\n",
       "      <td>Emon Chatterjee</td>\n",
       "      <td>Purshottam Mulani</td>\n",
       "    </tr>\n",
       "    <tr>\n",
       "      <th>2563</th>\n",
       "      <td>Breed</td>\n",
       "      <td>2020</td>\n",
       "      <td>135.0</td>\n",
       "      <td>Drama</td>\n",
       "      <td>9.6</td>\n",
       "      <td>48</td>\n",
       "      <td>Bobby Kumar</td>\n",
       "      <td>Bobby Kumar</td>\n",
       "      <td>Ashfaq</td>\n",
       "      <td>Fasih Choudhry</td>\n",
       "    </tr>\n",
       "    <tr>\n",
       "      <th>14222</th>\n",
       "      <td>The Reluctant Crime</td>\n",
       "      <td>2020</td>\n",
       "      <td>113</td>\n",
       "      <td>Drama</td>\n",
       "      <td>9.4</td>\n",
       "      <td>16</td>\n",
       "      <td>Arvind Pratap</td>\n",
       "      <td>Dharmendra Ahir</td>\n",
       "      <td>Awanish Kotnal</td>\n",
       "      <td>Rakhi Mansha</td>\n",
       "    </tr>\n",
       "    <tr>\n",
       "      <th>5077</th>\n",
       "      <td>Gho Gho Rani</td>\n",
       "      <td>2019</td>\n",
       "      <td>105</td>\n",
       "      <td>History, Romance</td>\n",
       "      <td>9.4</td>\n",
       "      <td>47</td>\n",
       "      <td>Munni Pankaj</td>\n",
       "      <td>Nishi Neha Mishra</td>\n",
       "      <td>Pankaj Kamal</td>\n",
       "      <td>Akash Kumar</td>\n",
       "    </tr>\n",
       "    <tr>\n",
       "      <th>6852</th>\n",
       "      <td>June</td>\n",
       "      <td>2021</td>\n",
       "      <td>93</td>\n",
       "      <td>Drama</td>\n",
       "      <td>9.4</td>\n",
       "      <td>18</td>\n",
       "      <td>Suhrud Godbole</td>\n",
       "      <td>Vaibhav Khisti</td>\n",
       "      <td>Nilesh Divekar</td>\n",
       "      <td>Jitendra Joshi</td>\n",
       "    </tr>\n",
       "    <tr>\n",
       "      <th>12673</th>\n",
       "      <td>Secrets of Sinauli</td>\n",
       "      <td>2021</td>\n",
       "      <td>56</td>\n",
       "      <td>Documentary, History</td>\n",
       "      <td>9.3</td>\n",
       "      <td>1373</td>\n",
       "      <td>Raghav Jairath</td>\n",
       "      <td>Manoj Bajpayee</td>\n",
       "      <td>R.S. Bhist</td>\n",
       "      <td>K.N. Dixit</td>\n",
       "    </tr>\n",
       "    <tr>\n",
       "      <th>5125</th>\n",
       "      <td>God of gods</td>\n",
       "      <td>2019</td>\n",
       "      <td>90</td>\n",
       "      <td>Documentary</td>\n",
       "      <td>9.3</td>\n",
       "      <td>46</td>\n",
       "      <td>Venkatesh Bk</td>\n",
       "      <td>Tejaswini Manogna</td>\n",
       "      <td>Triyug Mantri</td>\n",
       "      <td>Raj Singh Verma</td>\n",
       "    </tr>\n",
       "    <tr>\n",
       "      <th>8344</th>\n",
       "      <td>Love Sorries</td>\n",
       "      <td>2021</td>\n",
       "      <td>101</td>\n",
       "      <td>Comedy, Drama, Romance</td>\n",
       "      <td>9.3</td>\n",
       "      <td>79</td>\n",
       "      <td>Gautam Joshi</td>\n",
       "      <td>Prashant Chaubey</td>\n",
       "      <td>Puneet Chouksey</td>\n",
       "      <td>Amitabh Gupta</td>\n",
       "    </tr>\n",
       "    <tr>\n",
       "      <th>1314</th>\n",
       "      <td>Ashok Vatika</td>\n",
       "      <td>2018</td>\n",
       "      <td>97</td>\n",
       "      <td>Drama</td>\n",
       "      <td>9.3</td>\n",
       "      <td>7</td>\n",
       "      <td>Rahul Mallick</td>\n",
       "      <td>Kunj Anand</td>\n",
       "      <td>Sanjay Bishnoi</td>\n",
       "      <td>Paras Zutshi</td>\n",
       "    </tr>\n",
       "  </tbody>\n",
       "</table>\n",
       "</div>"
      ],
      "text/plain": [
       "                      Name  Year Duration                   Genre  Rating  \\\n",
       "8339       Love Qubool Hai  2020      94           Drama, Romance    10.0   \n",
       "5410            Half Songs  2021      79           Music, Romance     9.7   \n",
       "2563                 Breed  2020    135.0                   Drama     9.6   \n",
       "14222  The Reluctant Crime  2020     113                    Drama     9.4   \n",
       "5077          Gho Gho Rani  2019     105         History, Romance     9.4   \n",
       "6852                  June  2021      93                    Drama     9.4   \n",
       "12673   Secrets of Sinauli  2021      56     Documentary, History     9.3   \n",
       "5125           God of gods  2019      90              Documentary     9.3   \n",
       "8344          Love Sorries  2021     101   Comedy, Drama, Romance     9.3   \n",
       "1314          Ashok Vatika  2018      97                    Drama     9.3   \n",
       "\n",
       "       Votes         Director            Actor 1          Actor 2  \\\n",
       "8339       5  Saif Ali Sayeed          Ahaan Jha   Mahesh Narayan   \n",
       "5410       7      Sriram Raja       Raj Banerjee  Emon Chatterjee   \n",
       "2563      48      Bobby Kumar        Bobby Kumar           Ashfaq   \n",
       "14222     16    Arvind Pratap    Dharmendra Ahir   Awanish Kotnal   \n",
       "5077      47     Munni Pankaj  Nishi Neha Mishra     Pankaj Kamal   \n",
       "6852      18   Suhrud Godbole     Vaibhav Khisti   Nilesh Divekar   \n",
       "12673   1373   Raghav Jairath     Manoj Bajpayee       R.S. Bhist   \n",
       "5125      46     Venkatesh Bk  Tejaswini Manogna    Triyug Mantri   \n",
       "8344      79     Gautam Joshi   Prashant Chaubey  Puneet Chouksey   \n",
       "1314       7    Rahul Mallick         Kunj Anand   Sanjay Bishnoi   \n",
       "\n",
       "                   Actor 3  \n",
       "8339   Rajasree Rajakumari  \n",
       "5410     Purshottam Mulani  \n",
       "2563        Fasih Choudhry  \n",
       "14222         Rakhi Mansha  \n",
       "5077           Akash Kumar  \n",
       "6852        Jitendra Joshi  \n",
       "12673           K.N. Dixit  \n",
       "5125       Raj Singh Verma  \n",
       "8344         Amitabh Gupta  \n",
       "1314          Paras Zutshi  "
      ]
     },
     "execution_count": 19,
     "metadata": {},
     "output_type": "execute_result"
    }
   ],
   "source": [
    "top_movie = movie_data.loc[movie_data['Rating'].sort_values(ascending=False)[:10].index]\n",
    "top_movie"
   ]
  },
  {
   "cell_type": "code",
   "execution_count": 20,
   "metadata": {
    "colab": {
     "base_uri": "https://localhost:8080/",
     "height": 487
    },
    "id": "Bah95qiTkmCm",
    "outputId": "df912af2-34d4-42c9-8901-46c07eb4101b"
   },
   "outputs": [
    {
     "data": {
      "image/png": "[encoded data removed]",
      "text/plain": [
       "<Figure size 432x288 with 1 Axes>"
      ]
     },
     "metadata": {
      "needs_background": "light"
     },
     "output_type": "display_data"
    }
   ],
   "source": [
    "sns.histplot(data=top_movie, x=\"Year\",hue=\"Rating\", multiple=\"stack\")\n",
    "plt.title('Distribution of Top 10 Movies', fontsize=16)\n",
    "plt.xlabel('Year', fontsize=14)\n",
    "plt.ylabel('Rating', fontsize=14)\n",
    "plt.tight_layout()\n",
    "plt.show()"
   ]
  },
  {
   "cell_type": "code",
   "execution_count": 21,
   "metadata": {
    "colab": {
     "base_uri": "https://localhost:8080/",
     "height": 206
    },
    "id": "nGCiXi-dnzLs",
    "outputId": "87d95df5-aa08-45e4-858d-1fdbb23fb949"
   },
   "outputs": [
    {
     "data": {
      "text/html": [
       "<div>\n",
       "<style scoped>\n",
       "    .dataframe tbody tr th:only-of-type {\n",
       "        vertical-align: middle;\n",
       "    }\n",
       "\n",
       "    .dataframe tbody tr th {\n",
       "        vertical-align: top;\n",
       "    }\n",
       "\n",
       "    .dataframe thead th {\n",
       "        text-align: right;\n",
       "    }\n",
       "</style>\n",
       "<table border=\"1\" class=\"dataframe\">\n",
       "  <thead>\n",
       "    <tr style=\"text-align: right;\">\n",
       "      <th></th>\n",
       "      <th>Genre</th>\n",
       "      <th>Count</th>\n",
       "    </tr>\n",
       "  </thead>\n",
       "  <tbody>\n",
       "    <tr>\n",
       "      <th>0</th>\n",
       "      <td>Drama</td>\n",
       "      <td>1137</td>\n",
       "    </tr>\n",
       "    <tr>\n",
       "      <th>1</th>\n",
       "      <td>Drama, Romance</td>\n",
       "      <td>443</td>\n",
       "    </tr>\n",
       "    <tr>\n",
       "      <th>2</th>\n",
       "      <td>Action, Crime, Drama</td>\n",
       "      <td>417</td>\n",
       "    </tr>\n",
       "    <tr>\n",
       "      <th>3</th>\n",
       "      <td>Action</td>\n",
       "      <td>391</td>\n",
       "    </tr>\n",
       "    <tr>\n",
       "      <th>4</th>\n",
       "      <td>Drama, Family</td>\n",
       "      <td>291</td>\n",
       "    </tr>\n",
       "  </tbody>\n",
       "</table>\n",
       "</div>"
      ],
      "text/plain": [
       "                  Genre  Count\n",
       "0                 Drama   1137\n",
       "1        Drama, Romance    443\n",
       "2  Action, Crime, Drama    417\n",
       "3                Action    391\n",
       "4         Drama, Family    291"
      ]
     },
     "execution_count": 21,
     "metadata": {},
     "output_type": "execute_result"
    }
   ],
   "source": [
    "genre_counts = movie_data['Genre'].value_counts().reset_index()\n",
    "genre_counts.columns = ['Genre', 'Count']\n",
    "\n",
    "# Select the top N genres (e.g., top 5)\n",
    "top_n_genres = genre_counts.head(5)\n",
    "top_n_genres"
   ]
  },
  {
   "cell_type": "code",
   "execution_count": 22,
   "metadata": {
    "colab": {
     "base_uri": "https://localhost:8080/",
     "height": 369
    },
    "id": "TU4AD_SgrQc3",
    "outputId": "d60015d2-0aeb-48fc-8d01-118717db1e52"
   },
   "outputs": [
    {
     "data": {
      "image/png": "[encoded data removed]",
      "text/plain": [
       "<Figure size 288x288 with 1 Axes>"
      ]
     },
     "metadata": {},
     "output_type": "display_data"
    }
   ],
   "source": [
    "plt.figure(figsize=(4, 4))\n",
    "plt.pie(top_n_genres['Count'], labels=top_n_genres['Genre'], autopct='%1.1f%%', startangle=140, colors=sns.color_palette('pastel'))\n",
    "plt.title('Movie Genre Distribution', fontsize=16)\n",
    "plt.axis('equal')\n",
    "plt.show()"
   ]
  },
  {
   "cell_type": "code",
   "execution_count": 23,
   "metadata": {
    "colab": {
     "base_uri": "https://localhost:8080/",
     "height": 363
    },
    "id": "6JTcwrmLrViP",
    "outputId": "65330644-cf6e-4e26-eeee-13c453556b84"
   },
   "outputs": [
    {
     "data": {
      "text/html": [
       "<div>\n",
       "<style scoped>\n",
       "    .dataframe tbody tr th:only-of-type {\n",
       "        vertical-align: middle;\n",
       "    }\n",
       "\n",
       "    .dataframe tbody tr th {\n",
       "        vertical-align: top;\n",
       "    }\n",
       "\n",
       "    .dataframe thead th {\n",
       "        text-align: right;\n",
       "    }\n",
       "</style>\n",
       "<table border=\"1\" class=\"dataframe\">\n",
       "  <thead>\n",
       "    <tr style=\"text-align: right;\">\n",
       "      <th></th>\n",
       "      <th>Director</th>\n",
       "      <th>Rating</th>\n",
       "    </tr>\n",
       "  </thead>\n",
       "  <tbody>\n",
       "    <tr>\n",
       "      <th>2243</th>\n",
       "      <td>Saif Ali Sayeed</td>\n",
       "      <td>10.0</td>\n",
       "    </tr>\n",
       "    <tr>\n",
       "      <th>2560</th>\n",
       "      <td>Sriram Raja</td>\n",
       "      <td>9.7</td>\n",
       "    </tr>\n",
       "    <tr>\n",
       "      <th>504</th>\n",
       "      <td>Bobby Kumar</td>\n",
       "      <td>9.6</td>\n",
       "    </tr>\n",
       "    <tr>\n",
       "      <th>322</th>\n",
       "      <td>Arvind Pratap</td>\n",
       "      <td>9.4</td>\n",
       "    </tr>\n",
       "    <tr>\n",
       "      <th>1513</th>\n",
       "      <td>Munni Pankaj</td>\n",
       "      <td>9.4</td>\n",
       "    </tr>\n",
       "    <tr>\n",
       "      <th>2598</th>\n",
       "      <td>Suhrud Godbole</td>\n",
       "      <td>9.4</td>\n",
       "    </tr>\n",
       "    <tr>\n",
       "      <th>1601</th>\n",
       "      <td>Nikhil Mahar</td>\n",
       "      <td>9.3</td>\n",
       "    </tr>\n",
       "    <tr>\n",
       "      <th>2809</th>\n",
       "      <td>Venkatesh Bk</td>\n",
       "      <td>9.3</td>\n",
       "    </tr>\n",
       "    <tr>\n",
       "      <th>1879</th>\n",
       "      <td>Rahul Mallick</td>\n",
       "      <td>9.3</td>\n",
       "    </tr>\n",
       "    <tr>\n",
       "      <th>1864</th>\n",
       "      <td>Raghav Jairath</td>\n",
       "      <td>9.3</td>\n",
       "    </tr>\n",
       "  </tbody>\n",
       "</table>\n",
       "</div>"
      ],
      "text/plain": [
       "             Director  Rating\n",
       "2243  Saif Ali Sayeed    10.0\n",
       "2560      Sriram Raja     9.7\n",
       "504       Bobby Kumar     9.6\n",
       "322     Arvind Pratap     9.4\n",
       "1513     Munni Pankaj     9.4\n",
       "2598   Suhrud Godbole     9.4\n",
       "1601     Nikhil Mahar     9.3\n",
       "2809     Venkatesh Bk     9.3\n",
       "1879    Rahul Mallick     9.3\n",
       "1864   Raghav Jairath     9.3"
      ]
     },
     "execution_count": 23,
     "metadata": {},
     "output_type": "execute_result"
    }
   ],
   "source": [
    "director_avg_rating = movie_data.groupby('Director')['Rating'].mean().reset_index()\n",
    "\n",
    "director_avg_rating = director_avg_rating.sort_values(by='Rating', ascending=False)\n",
    "\n",
    "top_directors = director_avg_rating.head(10)\n",
    "top_directors"
   ]
  },
  {
   "cell_type": "code",
   "execution_count": 24,
   "metadata": {
    "colab": {
     "base_uri": "https://localhost:8080/",
     "height": 571
    },
    "id": "0y3hS5T6tpEG",
    "outputId": "1109fc20-9059-4fb2-ceee-25beece1215d"
   },
   "outputs": [
    {
     "data": {
      "image/png": "[encoded data removed]",
      "text/plain": [
       "<Figure size 864x432 with 1 Axes>"
      ]
     },
     "metadata": {
      "needs_background": "light"
     },
     "output_type": "display_data"
    }
   ],
   "source": [
    "plt.figure(figsize=(12, 6))\n",
    "sns.barplot(data=top_directors, x='Rating', y='Director', palette='viridis')\n",
    "\n",
    "plt.title('Top Directors by Average Rating', fontsize=16)\n",
    "plt.xlabel('Average Rating', fontsize=14)\n",
    "plt.ylabel('Director', fontsize=14)\n",
    "\n",
    "plt.show()"
   ]
  },
  {
   "cell_type": "code",
   "execution_count": 25,
   "metadata": {
    "colab": {
     "base_uri": "https://localhost:8080/",
     "height": 571
    },
    "id": "Xx26NTztttDh",
    "outputId": "c82ec014-a4d7-414a-aed5-addb19a2ba62"
   },
   "outputs": [
    {
     "data": {
      "image/png": "[encoded data removed]",
      "text/plain": [
       "<Figure size 864x432 with 1 Axes>"
      ]
     },
     "metadata": {
      "needs_background": "light"
     },
     "output_type": "display_data"
    }
   ],
   "source": [
    "plt.figure(figsize=(12, 6))\n",
    "sns.lineplot(data=movie_data, x='Rating', y='Votes')\n",
    "\n",
    "plt.title('Votes vs. Rating', fontsize=16)\n",
    "plt.xlabel('Rating', fontsize=14)\n",
    "plt.ylabel('Votes', fontsize=14)\n",
    "\n",
    "plt.show()"
   ]
  },
  {
   "cell_type": "code",
   "execution_count": 26,
   "metadata": {
    "colab": {
     "base_uri": "https://localhost:8080/",
     "height": 363
    },
    "id": "nVSDYsbmuRbr",
    "outputId": "fbb96afd-d6de-402e-c64b-c81f820db690"
   },
   "outputs": [
    {
     "data": {
      "text/html": [
       "<div>\n",
       "<style scoped>\n",
       "    .dataframe tbody tr th:only-of-type {\n",
       "        vertical-align: middle;\n",
       "    }\n",
       "\n",
       "    .dataframe tbody tr th {\n",
       "        vertical-align: top;\n",
       "    }\n",
       "\n",
       "    .dataframe thead th {\n",
       "        text-align: right;\n",
       "    }\n",
       "</style>\n",
       "<table border=\"1\" class=\"dataframe\">\n",
       "  <thead>\n",
       "    <tr style=\"text-align: right;\">\n",
       "      <th></th>\n",
       "      <th>Actor</th>\n",
       "      <th>MovieCount</th>\n",
       "    </tr>\n",
       "  </thead>\n",
       "  <tbody>\n",
       "    <tr>\n",
       "      <th>0</th>\n",
       "      <td>Jeetendra</td>\n",
       "      <td>140</td>\n",
       "    </tr>\n",
       "    <tr>\n",
       "      <th>1</th>\n",
       "      <td>Dharmendra</td>\n",
       "      <td>134</td>\n",
       "    </tr>\n",
       "    <tr>\n",
       "      <th>2</th>\n",
       "      <td>Mithun Chakraborty</td>\n",
       "      <td>130</td>\n",
       "    </tr>\n",
       "    <tr>\n",
       "      <th>3</th>\n",
       "      <td>Ashok Kumar</td>\n",
       "      <td>125</td>\n",
       "    </tr>\n",
       "    <tr>\n",
       "      <th>4</th>\n",
       "      <td>Rajesh Khanna</td>\n",
       "      <td>118</td>\n",
       "    </tr>\n",
       "    <tr>\n",
       "      <th>5</th>\n",
       "      <td>Amitabh Bachchan</td>\n",
       "      <td>116</td>\n",
       "    </tr>\n",
       "    <tr>\n",
       "      <th>6</th>\n",
       "      <td>Dev Anand</td>\n",
       "      <td>90</td>\n",
       "    </tr>\n",
       "    <tr>\n",
       "      <th>7</th>\n",
       "      <td>Shashi Kapoor</td>\n",
       "      <td>88</td>\n",
       "    </tr>\n",
       "    <tr>\n",
       "      <th>8</th>\n",
       "      <td>Akshay Kumar</td>\n",
       "      <td>82</td>\n",
       "    </tr>\n",
       "    <tr>\n",
       "      <th>9</th>\n",
       "      <td>Sanjay Dutt</td>\n",
       "      <td>73</td>\n",
       "    </tr>\n",
       "  </tbody>\n",
       "</table>\n",
       "</div>"
      ],
      "text/plain": [
       "                Actor  MovieCount\n",
       "0           Jeetendra         140\n",
       "1          Dharmendra         134\n",
       "2  Mithun Chakraborty         130\n",
       "3         Ashok Kumar         125\n",
       "4       Rajesh Khanna         118\n",
       "5    Amitabh Bachchan         116\n",
       "6           Dev Anand          90\n",
       "7       Shashi Kapoor          88\n",
       "8        Akshay Kumar          82\n",
       "9         Sanjay Dutt          73"
      ]
     },
     "execution_count": 26,
     "metadata": {},
     "output_type": "execute_result"
    }
   ],
   "source": [
    "actor_counts = movie_data['Actor 1'].value_counts().reset_index()\n",
    "actor_counts.columns = ['Actor', 'MovieCount']\n",
    "\n",
    "top_n_actors = actor_counts.head(10)\n",
    "top_n_actors"
   ]
  },
  {
   "cell_type": "code",
   "execution_count": 27,
   "metadata": {
    "colab": {
     "base_uri": "https://localhost:8080/",
     "height": 571
    },
    "id": "WoYJdym2wZ8Q",
    "outputId": "c39fddf1-b1c5-4eb4-c028-f91a826d74f0"
   },
   "outputs": [
    {
     "data": {
      "image/png": "[encoded data removed]",
      "text/plain": [
       "<Figure size 864x432 with 1 Axes>"
      ]
     },
     "metadata": {
      "needs_background": "light"
     },
     "output_type": "display_data"
    }
   ],
   "source": [
    "plt.figure(figsize=(12, 6))\n",
    "sns.barplot(data=top_n_actors, x='MovieCount', y='Actor', orient='h')\n",
    "\n",
    "plt.title('Top Actors by Number of Movies', fontsize=16)\n",
    "plt.xlabel('Number of Movies', fontsize=14)\n",
    "plt.ylabel('Actor', fontsize=14)\n",
    "\n",
    "\n",
    "plt.show()"
   ]
  },
  {
   "cell_type": "code",
   "execution_count": 28,
   "metadata": {
    "colab": {
     "base_uri": "https://localhost:8080/",
     "height": 424
    },
    "id": "PbdCqzzzwhou",
    "outputId": "dff0d1fb-1ceb-41bd-f77f-b215af8b4490"
   },
   "outputs": [
    {
     "data": {
      "text/html": [
       "<div>\n",
       "<style scoped>\n",
       "    .dataframe tbody tr th:only-of-type {\n",
       "        vertical-align: middle;\n",
       "    }\n",
       "\n",
       "    .dataframe tbody tr th {\n",
       "        vertical-align: top;\n",
       "    }\n",
       "\n",
       "    .dataframe thead th {\n",
       "        text-align: right;\n",
       "    }\n",
       "</style>\n",
       "<table border=\"1\" class=\"dataframe\">\n",
       "  <thead>\n",
       "    <tr style=\"text-align: right;\">\n",
       "      <th></th>\n",
       "      <th>Year</th>\n",
       "      <th>MovieCount</th>\n",
       "    </tr>\n",
       "  </thead>\n",
       "  <tbody>\n",
       "    <tr>\n",
       "      <th>91</th>\n",
       "      <td>1917</td>\n",
       "      <td>1</td>\n",
       "    </tr>\n",
       "    <tr>\n",
       "      <th>88</th>\n",
       "      <td>1931</td>\n",
       "      <td>3</td>\n",
       "    </tr>\n",
       "    <tr>\n",
       "      <th>89</th>\n",
       "      <td>1932</td>\n",
       "      <td>2</td>\n",
       "    </tr>\n",
       "    <tr>\n",
       "      <th>86</th>\n",
       "      <td>1933</td>\n",
       "      <td>4</td>\n",
       "    </tr>\n",
       "    <tr>\n",
       "      <th>90</th>\n",
       "      <td>1934</td>\n",
       "      <td>2</td>\n",
       "    </tr>\n",
       "    <tr>\n",
       "      <th>...</th>\n",
       "      <td>...</td>\n",
       "      <td>...</td>\n",
       "    </tr>\n",
       "    <tr>\n",
       "      <th>1</th>\n",
       "      <td>2017</td>\n",
       "      <td>223</td>\n",
       "    </tr>\n",
       "    <tr>\n",
       "      <th>2</th>\n",
       "      <td>2018</td>\n",
       "      <td>214</td>\n",
       "    </tr>\n",
       "    <tr>\n",
       "      <th>0</th>\n",
       "      <td>2019</td>\n",
       "      <td>238</td>\n",
       "    </tr>\n",
       "    <tr>\n",
       "      <th>9</th>\n",
       "      <td>2020</td>\n",
       "      <td>157</td>\n",
       "    </tr>\n",
       "    <tr>\n",
       "      <th>49</th>\n",
       "      <td>2021</td>\n",
       "      <td>69</td>\n",
       "    </tr>\n",
       "  </tbody>\n",
       "</table>\n",
       "<p>92 rows × 2 columns</p>\n",
       "</div>"
      ],
      "text/plain": [
       "    Year  MovieCount\n",
       "91  1917           1\n",
       "88  1931           3\n",
       "89  1932           2\n",
       "86  1933           4\n",
       "90  1934           2\n",
       "..   ...         ...\n",
       "1   2017         223\n",
       "2   2018         214\n",
       "0   2019         238\n",
       "9   2020         157\n",
       "49  2021          69\n",
       "\n",
       "[92 rows x 2 columns]"
      ]
     },
     "execution_count": 28,
     "metadata": {},
     "output_type": "execute_result"
    }
   ],
   "source": [
    "yearly_movie_counts = movie_data['Year'].value_counts().reset_index()\n",
    "yearly_movie_counts.columns = ['Year', 'MovieCount']\n",
    "\n",
    "yearly_movie_counts = yearly_movie_counts.sort_values(by='Year')\n",
    "yearly_movie_counts"
   ]
  },
  {
   "cell_type": "code",
   "execution_count": 29,
   "metadata": {
    "colab": {
     "base_uri": "https://localhost:8080/",
     "height": 571
    },
    "id": "yV3JykIwx7H0",
    "outputId": "bc75c052-2b7b-4510-dbba-00a26d4f473f"
   },
   "outputs": [
    {
     "data": {
      "image/png": "[encoded data removed]",
      "text/plain": [
       "<Figure size 864x432 with 1 Axes>"
      ]
     },
     "metadata": {
      "needs_background": "light"
     },
     "output_type": "display_data"
    }
   ],
   "source": [
    "plt.figure(figsize=(12, 6))\n",
    "sns.lineplot(data=yearly_movie_counts, x='Year', y='MovieCount')\n",
    "\n",
    "plt.title('Number of Movies Released Every Year', fontsize=16)\n",
    "plt.xlabel('Year', fontsize=14)\n",
    "plt.ylabel('Number of Movies Released', fontsize=14)\n",
    "\n",
    "plt.show()"
   ]
  },
  {
   "cell_type": "code",
   "execution_count": 30,
   "metadata": {
    "colab": {
     "base_uri": "https://localhost:8080/",
     "height": 450
    },
    "id": "Z4TqqbAkyBUx",
    "outputId": "a9c41ed4-7319-47ad-fc27-e2e0fe2133ce"
   },
   "outputs": [
    {
     "data": {
      "text/html": [
       "<div>\n",
       "<style scoped>\n",
       "    .dataframe tbody tr th:only-of-type {\n",
       "        vertical-align: middle;\n",
       "    }\n",
       "\n",
       "    .dataframe tbody tr th {\n",
       "        vertical-align: top;\n",
       "    }\n",
       "\n",
       "    .dataframe thead th {\n",
       "        text-align: right;\n",
       "    }\n",
       "</style>\n",
       "<table border=\"1\" class=\"dataframe\">\n",
       "  <thead>\n",
       "    <tr style=\"text-align: right;\">\n",
       "      <th></th>\n",
       "      <th>Name</th>\n",
       "      <th>Year</th>\n",
       "      <th>Duration</th>\n",
       "      <th>Genre</th>\n",
       "      <th>Rating</th>\n",
       "      <th>Votes</th>\n",
       "      <th>Director</th>\n",
       "      <th>Actor 1</th>\n",
       "      <th>Actor 2</th>\n",
       "      <th>Actor 3</th>\n",
       "    </tr>\n",
       "  </thead>\n",
       "  <tbody>\n",
       "    <tr>\n",
       "      <th>75</th>\n",
       "      <td>3 Idiots</td>\n",
       "      <td>2009</td>\n",
       "      <td>170</td>\n",
       "      <td>Comedy, Drama</td>\n",
       "      <td>8.4</td>\n",
       "      <td>357889</td>\n",
       "      <td>Rajkumar Hirani</td>\n",
       "      <td>Aamir Khan</td>\n",
       "      <td>Madhavan</td>\n",
       "      <td>Mona Singh</td>\n",
       "    </tr>\n",
       "    <tr>\n",
       "      <th>173</th>\n",
       "      <td>A Wednesday</td>\n",
       "      <td>2008</td>\n",
       "      <td>104</td>\n",
       "      <td>Action, Crime, Drama</td>\n",
       "      <td>8.1</td>\n",
       "      <td>75118</td>\n",
       "      <td>Neeraj Pandey</td>\n",
       "      <td>Anupam Kher</td>\n",
       "      <td>Naseeruddin Shah</td>\n",
       "      <td>Jimmy Sheirgill</td>\n",
       "    </tr>\n",
       "    <tr>\n",
       "      <th>981</th>\n",
       "      <td>Anand</td>\n",
       "      <td>1971</td>\n",
       "      <td>122</td>\n",
       "      <td>Drama, Musical</td>\n",
       "      <td>8.3</td>\n",
       "      <td>31937</td>\n",
       "      <td>Hrishikesh Mukherjee</td>\n",
       "      <td>Rajesh Khanna</td>\n",
       "      <td>Amitabh Bachchan</td>\n",
       "      <td>Sumita Sanyal</td>\n",
       "    </tr>\n",
       "    <tr>\n",
       "      <th>1009</th>\n",
       "      <td>Andaz Apna Apna</td>\n",
       "      <td>1994</td>\n",
       "      <td>160</td>\n",
       "      <td>Action, Comedy, Romance</td>\n",
       "      <td>8.1</td>\n",
       "      <td>50810</td>\n",
       "      <td>Rajkumar Santoshi</td>\n",
       "      <td>Aamir Khan</td>\n",
       "      <td>Salman Khan</td>\n",
       "      <td>Raveena Tandon</td>\n",
       "    </tr>\n",
       "    <tr>\n",
       "      <th>1019</th>\n",
       "      <td>Andhadhun</td>\n",
       "      <td>2018</td>\n",
       "      <td>139</td>\n",
       "      <td>Crime, Drama, Music</td>\n",
       "      <td>8.2</td>\n",
       "      <td>77901</td>\n",
       "      <td>Sriram Raghavan</td>\n",
       "      <td>Ayushmann Khurrana</td>\n",
       "      <td>Tabu</td>\n",
       "      <td>Radhika Apte</td>\n",
       "    </tr>\n",
       "    <tr>\n",
       "      <th>1285</th>\n",
       "      <td>Article 15</td>\n",
       "      <td>2019</td>\n",
       "      <td>130</td>\n",
       "      <td>Crime, Drama, Mystery</td>\n",
       "      <td>8.2</td>\n",
       "      <td>25706</td>\n",
       "      <td>Anubhav Sinha</td>\n",
       "      <td>Ayushmann Khurrana</td>\n",
       "      <td>Nassar</td>\n",
       "      <td>Manoj Pahwa</td>\n",
       "    </tr>\n",
       "    <tr>\n",
       "      <th>1877</th>\n",
       "      <td>Barfi!</td>\n",
       "      <td>2012</td>\n",
       "      <td>151</td>\n",
       "      <td>Comedy, Drama, Romance</td>\n",
       "      <td>8.1</td>\n",
       "      <td>77377</td>\n",
       "      <td>Anurag Basu</td>\n",
       "      <td>Ranbir Kapoor</td>\n",
       "      <td>Priyanka Chopra Jonas</td>\n",
       "      <td>Ileana D'Cruz</td>\n",
       "    </tr>\n",
       "    <tr>\n",
       "      <th>2065</th>\n",
       "      <td>Bhaag Milkha Bhaag</td>\n",
       "      <td>2013</td>\n",
       "      <td>186</td>\n",
       "      <td>Biography, Drama, Sport</td>\n",
       "      <td>8.2</td>\n",
       "      <td>62636</td>\n",
       "      <td>Rakeysh Omprakash Mehra</td>\n",
       "      <td>Farhan Akhtar</td>\n",
       "      <td>Sonam Kapoor</td>\n",
       "      <td>Pawan Malhotra</td>\n",
       "    </tr>\n",
       "    <tr>\n",
       "      <th>2412</th>\n",
       "      <td>Black</td>\n",
       "      <td>2005</td>\n",
       "      <td>122</td>\n",
       "      <td>Drama</td>\n",
       "      <td>8.2</td>\n",
       "      <td>33782</td>\n",
       "      <td>Sanjay Leela Bhansali</td>\n",
       "      <td>Amitabh Bachchan</td>\n",
       "      <td>Rani Mukerji</td>\n",
       "      <td>Shernaz Patel</td>\n",
       "    </tr>\n",
       "    <tr>\n",
       "      <th>2425</th>\n",
       "      <td>Black Friday</td>\n",
       "      <td>2004</td>\n",
       "      <td>143</td>\n",
       "      <td>Action, Crime, Drama</td>\n",
       "      <td>8.5</td>\n",
       "      <td>19493</td>\n",
       "      <td>Anurag Kashyap</td>\n",
       "      <td>Kay Kay Menon</td>\n",
       "      <td>Pawan Malhotra</td>\n",
       "      <td>Aditya Srivastav</td>\n",
       "    </tr>\n",
       "  </tbody>\n",
       "</table>\n",
       "</div>"
      ],
      "text/plain": [
       "                    Name  Year Duration                    Genre  Rating  \\\n",
       "75              3 Idiots  2009     170             Comedy, Drama     8.4   \n",
       "173          A Wednesday  2008     104      Action, Crime, Drama     8.1   \n",
       "981                Anand  1971     122            Drama, Musical     8.3   \n",
       "1009     Andaz Apna Apna  1994     160   Action, Comedy, Romance     8.1   \n",
       "1019           Andhadhun  2018     139       Crime, Drama, Music     8.2   \n",
       "1285          Article 15  2019     130     Crime, Drama, Mystery     8.2   \n",
       "1877              Barfi!  2012     151    Comedy, Drama, Romance     8.1   \n",
       "2065  Bhaag Milkha Bhaag  2013     186   Biography, Drama, Sport     8.2   \n",
       "2412               Black  2005     122                     Drama     8.2   \n",
       "2425        Black Friday  2004     143      Action, Crime, Drama     8.5   \n",
       "\n",
       "       Votes                 Director             Actor 1  \\\n",
       "75    357889          Rajkumar Hirani          Aamir Khan   \n",
       "173    75118            Neeraj Pandey         Anupam Kher   \n",
       "981    31937     Hrishikesh Mukherjee       Rajesh Khanna   \n",
       "1009   50810        Rajkumar Santoshi          Aamir Khan   \n",
       "1019   77901          Sriram Raghavan  Ayushmann Khurrana   \n",
       "1285   25706            Anubhav Sinha  Ayushmann Khurrana   \n",
       "1877   77377              Anurag Basu       Ranbir Kapoor   \n",
       "2065   62636  Rakeysh Omprakash Mehra       Farhan Akhtar   \n",
       "2412   33782    Sanjay Leela Bhansali    Amitabh Bachchan   \n",
       "2425   19493           Anurag Kashyap       Kay Kay Menon   \n",
       "\n",
       "                    Actor 2           Actor 3  \n",
       "75                 Madhavan        Mona Singh  \n",
       "173        Naseeruddin Shah   Jimmy Sheirgill  \n",
       "981        Amitabh Bachchan     Sumita Sanyal  \n",
       "1009            Salman Khan    Raveena Tandon  \n",
       "1019                   Tabu      Radhika Apte  \n",
       "1285                 Nassar       Manoj Pahwa  \n",
       "1877  Priyanka Chopra Jonas     Ileana D'Cruz  \n",
       "2065           Sonam Kapoor    Pawan Malhotra  \n",
       "2412           Rani Mukerji     Shernaz Patel  \n",
       "2425         Pawan Malhotra  Aditya Srivastav  "
      ]
     },
     "execution_count": 30,
     "metadata": {},
     "output_type": "execute_result"
    }
   ],
   "source": [
    "filtered_df = movie_data[(movie_data['Rating'] > 8) & (movie_data['Votes'] > 10000)]\n",
    "filtered_df.head(10)"
   ]
  },
  {
   "cell_type": "code",
   "execution_count": 33,
   "metadata": {
    "colab": {
     "base_uri": "https://localhost:8080/",
     "height": 782
    },
    "id": "vo3WjwrHyap3",
    "outputId": "d72adc33-d594-443c-d110-0a741750e3db"
   },
   "outputs": [
    {
     "data": {
      "image/png": "[encoded data removed]",
      "text/plain": [
       "<Figure size 1080x432 with 1 Axes>"
      ]
     },
     "metadata": {
      "needs_background": "light"
     },
     "output_type": "display_data"
    }
   ],
   "source": [
    "import matplotlib.pyplot as plt\n",
    "import seaborn as sns\n",
    "\n",
    "plt.figure(figsize=(15, 6))\n",
    "ax = sns.barplot(data=filtered_df, x='Name', y='Votes', hue='Rating', dodge=False, palette='muted')\n",
    "\n",
    "ax.set_xticklabels(ax.get_xticklabels(), rotation=90, ha='right')\n",
    "ax.legend(loc='upper right')\n",
    "ax.set_xlabel('Movie Name')\n",
    "ax.set_ylabel('Votes')\n",
    "ax.set_title('Movies with rating greater than 8 and votes greater than 10000')\n",
    "\n",
    "plt.show()\n"
   ]
  },
  {
   "cell_type": "code",
   "execution_count": 35,
   "metadata": {
    "colab": {
     "base_uri": "https://localhost:8080/",
     "height": 564
    },
    "id": "VdzNh7CeynHt",
    "outputId": "22d2a3ad-8735-4c0e-a692-ddabb4a77044"
   },
   "outputs": [
    {
     "data": {
      "image/png": "[encoded data removed]",
      "text/plain": [
       "<Figure size 864x432 with 1 Axes>"
      ]
     },
     "metadata": {
      "needs_background": "light"
     },
     "output_type": "display_data"
    }
   ],
   "source": [
    "import matplotlib.pyplot as plt\n",
    "import seaborn as sns\n",
    "\n",
    "# Assuming 'movie_data' is your DataFrame\n",
    "movie_data['Duration'] = movie_data['Duration'].astype(int)\n",
    "movie_data['Year'] = movie_data['Year'].astype(int)\n",
    "\n",
    "plt.figure(figsize=(12, 6))\n",
    "sns.lineplot(data=movie_data, x='Year', y='Duration')  # Removed 'errorbar=None'\n",
    "plt.xlabel('Year')\n",
    "plt.ylabel('Duration in minutes')\n",
    "plt.title('Duration of movies by year')\n",
    "plt.xticks(np.arange(1917, 2023, 5))\n",
    "plt.show()\n"
   ]
  },
  {
   "cell_type": "code",
   "execution_count": 36,
   "metadata": {
    "colab": {
     "base_uri": "https://localhost:8080/",
     "height": 424
    },
    "id": "bPkW1DDWz98R",
    "outputId": "469e4cd7-01ec-40e7-ff62-9ed2112348ee"
   },
   "outputs": [
    {
     "data": {
      "text/html": [
       "<div>\n",
       "<style scoped>\n",
       "    .dataframe tbody tr th:only-of-type {\n",
       "        vertical-align: middle;\n",
       "    }\n",
       "\n",
       "    .dataframe tbody tr th {\n",
       "        vertical-align: top;\n",
       "    }\n",
       "\n",
       "    .dataframe thead th {\n",
       "        text-align: right;\n",
       "    }\n",
       "</style>\n",
       "<table border=\"1\" class=\"dataframe\">\n",
       "  <thead>\n",
       "    <tr style=\"text-align: right;\">\n",
       "      <th></th>\n",
       "      <th>Name</th>\n",
       "      <th>Year</th>\n",
       "      <th>Duration</th>\n",
       "      <th>Genre</th>\n",
       "      <th>Rating</th>\n",
       "      <th>Votes</th>\n",
       "      <th>Director</th>\n",
       "      <th>Actor 1</th>\n",
       "      <th>Actor 2</th>\n",
       "      <th>Actor 3</th>\n",
       "    </tr>\n",
       "  </thead>\n",
       "  <tbody>\n",
       "    <tr>\n",
       "      <th>1</th>\n",
       "      <td>#Gadhvi (He thought he was Gandhi)</td>\n",
       "      <td>2019</td>\n",
       "      <td>109</td>\n",
       "      <td>Drama</td>\n",
       "      <td>7.0</td>\n",
       "      <td>8</td>\n",
       "      <td>Gaurav Bakshi</td>\n",
       "      <td>Rasika Dugal</td>\n",
       "      <td>Vivek Ghamande</td>\n",
       "      <td>Arvind Jangid</td>\n",
       "    </tr>\n",
       "    <tr>\n",
       "      <th>3</th>\n",
       "      <td>#Yaaram</td>\n",
       "      <td>2019</td>\n",
       "      <td>110</td>\n",
       "      <td>Comedy</td>\n",
       "      <td>4.4</td>\n",
       "      <td>35</td>\n",
       "      <td>Ovais Khan</td>\n",
       "      <td>Prateik</td>\n",
       "      <td>Ishita Raj</td>\n",
       "      <td>Siddhant Kapoor</td>\n",
       "    </tr>\n",
       "    <tr>\n",
       "      <th>3</th>\n",
       "      <td>#Yaaram</td>\n",
       "      <td>2019</td>\n",
       "      <td>110</td>\n",
       "      <td>Romance</td>\n",
       "      <td>4.4</td>\n",
       "      <td>35</td>\n",
       "      <td>Ovais Khan</td>\n",
       "      <td>Prateik</td>\n",
       "      <td>Ishita Raj</td>\n",
       "      <td>Siddhant Kapoor</td>\n",
       "    </tr>\n",
       "    <tr>\n",
       "      <th>5</th>\n",
       "      <td>...Aur Pyaar Ho Gaya</td>\n",
       "      <td>1997</td>\n",
       "      <td>147</td>\n",
       "      <td>Comedy</td>\n",
       "      <td>4.7</td>\n",
       "      <td>827</td>\n",
       "      <td>Rahul Rawail</td>\n",
       "      <td>Bobby Deol</td>\n",
       "      <td>Aishwarya Rai Bachchan</td>\n",
       "      <td>Shammi Kapoor</td>\n",
       "    </tr>\n",
       "    <tr>\n",
       "      <th>5</th>\n",
       "      <td>...Aur Pyaar Ho Gaya</td>\n",
       "      <td>1997</td>\n",
       "      <td>147</td>\n",
       "      <td>Drama</td>\n",
       "      <td>4.7</td>\n",
       "      <td>827</td>\n",
       "      <td>Rahul Rawail</td>\n",
       "      <td>Bobby Deol</td>\n",
       "      <td>Aishwarya Rai Bachchan</td>\n",
       "      <td>Shammi Kapoor</td>\n",
       "    </tr>\n",
       "    <tr>\n",
       "      <th>...</th>\n",
       "      <td>...</td>\n",
       "      <td>...</td>\n",
       "      <td>...</td>\n",
       "      <td>...</td>\n",
       "      <td>...</td>\n",
       "      <td>...</td>\n",
       "      <td>...</td>\n",
       "      <td>...</td>\n",
       "      <td>...</td>\n",
       "      <td>...</td>\n",
       "    </tr>\n",
       "    <tr>\n",
       "      <th>15504</th>\n",
       "      <td>Zulm Ko Jala Doonga</td>\n",
       "      <td>1988</td>\n",
       "      <td>135</td>\n",
       "      <td>Action</td>\n",
       "      <td>4.6</td>\n",
       "      <td>11</td>\n",
       "      <td>Mahendra Shah</td>\n",
       "      <td>Naseeruddin Shah</td>\n",
       "      <td>Sumeet Saigal</td>\n",
       "      <td>Suparna Anand</td>\n",
       "    </tr>\n",
       "    <tr>\n",
       "      <th>15505</th>\n",
       "      <td>Zulmi</td>\n",
       "      <td>1999</td>\n",
       "      <td>129</td>\n",
       "      <td>Action</td>\n",
       "      <td>4.5</td>\n",
       "      <td>655</td>\n",
       "      <td>Kuku Kohli</td>\n",
       "      <td>Akshay Kumar</td>\n",
       "      <td>Twinkle Khanna</td>\n",
       "      <td>Aruna Irani</td>\n",
       "    </tr>\n",
       "    <tr>\n",
       "      <th>15505</th>\n",
       "      <td>Zulmi</td>\n",
       "      <td>1999</td>\n",
       "      <td>129</td>\n",
       "      <td>Drama</td>\n",
       "      <td>4.5</td>\n",
       "      <td>655</td>\n",
       "      <td>Kuku Kohli</td>\n",
       "      <td>Akshay Kumar</td>\n",
       "      <td>Twinkle Khanna</td>\n",
       "      <td>Aruna Irani</td>\n",
       "    </tr>\n",
       "    <tr>\n",
       "      <th>15508</th>\n",
       "      <td>Zulm-O-Sitam</td>\n",
       "      <td>1998</td>\n",
       "      <td>130</td>\n",
       "      <td>Action</td>\n",
       "      <td>6.2</td>\n",
       "      <td>20</td>\n",
       "      <td>K.C. Bokadia</td>\n",
       "      <td>Dharmendra</td>\n",
       "      <td>Jaya Prada</td>\n",
       "      <td>Arjun Sarja</td>\n",
       "    </tr>\n",
       "    <tr>\n",
       "      <th>15508</th>\n",
       "      <td>Zulm-O-Sitam</td>\n",
       "      <td>1998</td>\n",
       "      <td>130</td>\n",
       "      <td>Drama</td>\n",
       "      <td>6.2</td>\n",
       "      <td>20</td>\n",
       "      <td>K.C. Bokadia</td>\n",
       "      <td>Dharmendra</td>\n",
       "      <td>Jaya Prada</td>\n",
       "      <td>Arjun Sarja</td>\n",
       "    </tr>\n",
       "  </tbody>\n",
       "</table>\n",
       "<p>15380 rows × 10 columns</p>\n",
       "</div>"
      ],
      "text/plain": [
       "                                     Name  Year  Duration     Genre  Rating  \\\n",
       "1      #Gadhvi (He thought he was Gandhi)  2019       109     Drama     7.0   \n",
       "3                                 #Yaaram  2019       110    Comedy     4.4   \n",
       "3                                 #Yaaram  2019       110   Romance     4.4   \n",
       "5                    ...Aur Pyaar Ho Gaya  1997       147    Comedy     4.7   \n",
       "5                    ...Aur Pyaar Ho Gaya  1997       147     Drama     4.7   \n",
       "...                                   ...   ...       ...       ...     ...   \n",
       "15504                 Zulm Ko Jala Doonga  1988       135    Action     4.6   \n",
       "15505                               Zulmi  1999       129    Action     4.5   \n",
       "15505                               Zulmi  1999       129     Drama     4.5   \n",
       "15508                        Zulm-O-Sitam  1998       130    Action     6.2   \n",
       "15508                        Zulm-O-Sitam  1998       130     Drama     6.2   \n",
       "\n",
       "       Votes       Director           Actor 1                 Actor 2  \\\n",
       "1          8  Gaurav Bakshi      Rasika Dugal          Vivek Ghamande   \n",
       "3         35     Ovais Khan           Prateik              Ishita Raj   \n",
       "3         35     Ovais Khan           Prateik              Ishita Raj   \n",
       "5        827   Rahul Rawail        Bobby Deol  Aishwarya Rai Bachchan   \n",
       "5        827   Rahul Rawail        Bobby Deol  Aishwarya Rai Bachchan   \n",
       "...      ...            ...               ...                     ...   \n",
       "15504     11  Mahendra Shah  Naseeruddin Shah           Sumeet Saigal   \n",
       "15505    655     Kuku Kohli      Akshay Kumar          Twinkle Khanna   \n",
       "15505    655     Kuku Kohli      Akshay Kumar          Twinkle Khanna   \n",
       "15508     20   K.C. Bokadia        Dharmendra              Jaya Prada   \n",
       "15508     20   K.C. Bokadia        Dharmendra              Jaya Prada   \n",
       "\n",
       "               Actor 3  \n",
       "1        Arvind Jangid  \n",
       "3      Siddhant Kapoor  \n",
       "3      Siddhant Kapoor  \n",
       "5        Shammi Kapoor  \n",
       "5        Shammi Kapoor  \n",
       "...                ...  \n",
       "15504    Suparna Anand  \n",
       "15505      Aruna Irani  \n",
       "15505      Aruna Irani  \n",
       "15508      Arjun Sarja  \n",
       "15508      Arjun Sarja  \n",
       "\n",
       "[15380 rows x 10 columns]"
      ]
     },
     "execution_count": 36,
     "metadata": {},
     "output_type": "execute_result"
    }
   ],
   "source": [
    "movie_data['Genre'] = movie_data['Genre'].str.split(',')\n",
    "\n",
    "\n",
    "genre_df = movie_data.explode('Genre')\n",
    "genre_df"
   ]
  },
  {
   "cell_type": "code",
   "execution_count": 37,
   "metadata": {
    "colab": {
     "base_uri": "https://localhost:8080/",
     "height": 652
    },
    "id": "DnbZIPDE2vju",
    "outputId": "80604829-f819-465b-e572-447debd57fe0"
   },
   "outputs": [
    {
     "data": {
      "image/png": "[encoded data removed]",
      "text/plain": [
       "<Figure size 864x432 with 1 Axes>"
      ]
     },
     "metadata": {
      "needs_background": "light"
     },
     "output_type": "display_data"
    }
   ],
   "source": [
    "\n",
    "plt.figure(figsize=(12, 6))\n",
    "sns.countplot(data=genre_df, x='Genre', order=genre_df['Genre'].value_counts().index, palette='viridis')\n",
    "\n",
    "plt.title('Number of Movies for Each Genre', fontsize=16)\n",
    "plt.xlabel('Number of Movies', fontsize=14)\n",
    "plt.ylabel('Genre', fontsize=14)\n",
    "plt.xticks(rotation=90)\n",
    "\n",
    "plt.show()"
   ]
  },
  {
   "cell_type": "code",
   "execution_count": 38,
   "metadata": {
    "id": "hmn1_DWr3y9q"
   },
   "outputs": [],
   "source": [
    "average_rating_by_genre = genre_df.groupby('Genre')['Rating'].mean().reset_index()\n",
    "average_rating_by_genre = average_rating_by_genre.sort_values(by='Rating', ascending=False)"
   ]
  },
  {
   "cell_type": "code",
   "execution_count": 39,
   "metadata": {
    "colab": {
     "base_uri": "https://localhost:8080/",
     "height": 568
    },
    "id": "WsmsGtwd2yHz",
    "outputId": "4e83c942-bc86-4d36-86fa-58d1dd3784f8"
   },
   "outputs": [
    {
     "data": {
      "image/png": "[encoded data removed]",
      "text/plain": [
       "<Figure size 1080x360 with 1 Axes>"
      ]
     },
     "metadata": {
      "needs_background": "light"
     },
     "output_type": "display_data"
    }
   ],
   "source": [
    "plt.figure(figsize=(15,5))\n",
    "sns.barplot(data=average_rating_by_genre,y=\"Rating\",x='Genre',palette='coolwarm')\n",
    "plt.xlabel('Genre')\n",
    "plt.ylabel('Average Rating')\n",
    "plt.title('Average rating of movies in each genre')\n",
    "plt.xticks(rotation=90)\n",
    "\n",
    "plt.show()"
   ]
  },
  {
   "cell_type": "code",
   "execution_count": 40,
   "metadata": {
    "colab": {
     "base_uri": "https://localhost:8080/",
     "height": 206
    },
    "id": "FdEDPzPV63Hf",
    "outputId": "befaa14f-1b44-45f2-a5db-419ed127c6ed"
   },
   "outputs": [
    {
     "data": {
      "text/html": [
       "<div>\n",
       "<style scoped>\n",
       "    .dataframe tbody tr th:only-of-type {\n",
       "        vertical-align: middle;\n",
       "    }\n",
       "\n",
       "    .dataframe tbody tr th {\n",
       "        vertical-align: top;\n",
       "    }\n",
       "\n",
       "    .dataframe thead th {\n",
       "        text-align: right;\n",
       "    }\n",
       "</style>\n",
       "<table border=\"1\" class=\"dataframe\">\n",
       "  <thead>\n",
       "    <tr style=\"text-align: right;\">\n",
       "      <th></th>\n",
       "      <th>Year</th>\n",
       "      <th>Duration</th>\n",
       "      <th>Genre</th>\n",
       "      <th>Rating</th>\n",
       "      <th>Votes</th>\n",
       "      <th>Director</th>\n",
       "      <th>Actor 1</th>\n",
       "      <th>Actor 2</th>\n",
       "      <th>Actor 3</th>\n",
       "    </tr>\n",
       "  </thead>\n",
       "  <tbody>\n",
       "    <tr>\n",
       "      <th>1</th>\n",
       "      <td>2019</td>\n",
       "      <td>109</td>\n",
       "      <td>252</td>\n",
       "      <td>7.0</td>\n",
       "      <td>8</td>\n",
       "      <td>755</td>\n",
       "      <td>1686</td>\n",
       "      <td>2725</td>\n",
       "      <td>373</td>\n",
       "    </tr>\n",
       "    <tr>\n",
       "      <th>3</th>\n",
       "      <td>2019</td>\n",
       "      <td>110</td>\n",
       "      <td>205</td>\n",
       "      <td>4.4</td>\n",
       "      <td>35</td>\n",
       "      <td>1637</td>\n",
       "      <td>1500</td>\n",
       "      <td>865</td>\n",
       "      <td>2543</td>\n",
       "    </tr>\n",
       "    <tr>\n",
       "      <th>5</th>\n",
       "      <td>1997</td>\n",
       "      <td>147</td>\n",
       "      <td>175</td>\n",
       "      <td>4.7</td>\n",
       "      <td>827</td>\n",
       "      <td>1881</td>\n",
       "      <td>481</td>\n",
       "      <td>84</td>\n",
       "      <td>2422</td>\n",
       "    </tr>\n",
       "    <tr>\n",
       "      <th>6</th>\n",
       "      <td>2005</td>\n",
       "      <td>142</td>\n",
       "      <td>315</td>\n",
       "      <td>7.4</td>\n",
       "      <td>1086</td>\n",
       "      <td>2486</td>\n",
       "      <td>878</td>\n",
       "      <td>1346</td>\n",
       "      <td>2996</td>\n",
       "    </tr>\n",
       "    <tr>\n",
       "      <th>8</th>\n",
       "      <td>2012</td>\n",
       "      <td>82</td>\n",
       "      <td>351</td>\n",
       "      <td>5.6</td>\n",
       "      <td>326</td>\n",
       "      <td>161</td>\n",
       "      <td>2385</td>\n",
       "      <td>1416</td>\n",
       "      <td>1189</td>\n",
       "    </tr>\n",
       "  </tbody>\n",
       "</table>\n",
       "</div>"
      ],
      "text/plain": [
       "   Year  Duration  Genre  Rating  Votes  Director  Actor 1  Actor 2  Actor 3\n",
       "1  2019       109    252     7.0      8       755     1686     2725      373\n",
       "3  2019       110    205     4.4     35      1637     1500      865     2543\n",
       "5  1997       147    175     4.7    827      1881      481       84     2422\n",
       "6  2005       142    315     7.4   1086      2486      878     1346     2996\n",
       "8  2012        82    351     5.6    326       161     2385     1416     1189"
      ]
     },
     "execution_count": 40,
     "metadata": {},
     "output_type": "execute_result"
    }
   ],
   "source": [
    "from sklearn.preprocessing import LabelEncoder\n",
    "labelencoder = LabelEncoder()\n",
    "\n",
    "trans_data = movie_data.drop(['Name'],axis=1)\n",
    "# Transform Director columns\n",
    "trans_data['Director'] = labelencoder.fit_transform(movie_data['Director'])\n",
    "\n",
    "# Transform Actors Columns\n",
    "trans_data['Actor 1'] = labelencoder.fit_transform(movie_data['Actor 1'])\n",
    "trans_data['Actor 2'] = labelencoder.fit_transform(movie_data['Actor 2'])\n",
    "trans_data['Actor 3'] = labelencoder.fit_transform(movie_data['Actor 3'])\n",
    "\n",
    "trans_data['Genre'] = labelencoder.fit_transform(movie_data['Genre'].apply(lambda x: ', '.join(x)))\n",
    "\n",
    "trans_data.head()"
   ]
  },
  {
   "cell_type": "code",
   "execution_count": 41,
   "metadata": {
    "colab": {
     "base_uri": "https://localhost:8080/",
     "height": 206
    },
    "id": "I4Y73GBHTBF1",
    "outputId": "76ab83f9-1bb4-447f-b722-b77d17ba9f49"
   },
   "outputs": [
    {
     "data": {
      "text/html": [
       "<div>\n",
       "<style scoped>\n",
       "    .dataframe tbody tr th:only-of-type {\n",
       "        vertical-align: middle;\n",
       "    }\n",
       "\n",
       "    .dataframe tbody tr th {\n",
       "        vertical-align: top;\n",
       "    }\n",
       "\n",
       "    .dataframe thead th {\n",
       "        text-align: right;\n",
       "    }\n",
       "</style>\n",
       "<table border=\"1\" class=\"dataframe\">\n",
       "  <thead>\n",
       "    <tr style=\"text-align: right;\">\n",
       "      <th></th>\n",
       "      <th>Year</th>\n",
       "      <th>Duration</th>\n",
       "      <th>Genre</th>\n",
       "      <th>Rating</th>\n",
       "      <th>Votes</th>\n",
       "      <th>Director</th>\n",
       "      <th>Actor 1</th>\n",
       "      <th>Actor 2</th>\n",
       "      <th>Actor 3</th>\n",
       "    </tr>\n",
       "  </thead>\n",
       "  <tbody>\n",
       "    <tr>\n",
       "      <th>0</th>\n",
       "      <td>0.980769</td>\n",
       "      <td>0.293333</td>\n",
       "      <td>0.607229</td>\n",
       "      <td>0.662921</td>\n",
       "      <td>0.000005</td>\n",
       "      <td>0.255499</td>\n",
       "      <td>0.698426</td>\n",
       "      <td>0.979511</td>\n",
       "      <td>0.123102</td>\n",
       "    </tr>\n",
       "    <tr>\n",
       "      <th>1</th>\n",
       "      <td>0.980769</td>\n",
       "      <td>0.296667</td>\n",
       "      <td>0.493976</td>\n",
       "      <td>0.370787</td>\n",
       "      <td>0.000051</td>\n",
       "      <td>0.553976</td>\n",
       "      <td>0.621375</td>\n",
       "      <td>0.310927</td>\n",
       "      <td>0.839274</td>\n",
       "    </tr>\n",
       "    <tr>\n",
       "      <th>2</th>\n",
       "      <td>0.769231</td>\n",
       "      <td>0.420000</td>\n",
       "      <td>0.421687</td>\n",
       "      <td>0.404494</td>\n",
       "      <td>0.001390</td>\n",
       "      <td>0.636548</td>\n",
       "      <td>0.199254</td>\n",
       "      <td>0.030194</td>\n",
       "      <td>0.799340</td>\n",
       "    </tr>\n",
       "    <tr>\n",
       "      <th>3</th>\n",
       "      <td>0.846154</td>\n",
       "      <td>0.403333</td>\n",
       "      <td>0.759036</td>\n",
       "      <td>0.707865</td>\n",
       "      <td>0.001828</td>\n",
       "      <td>0.841286</td>\n",
       "      <td>0.363712</td>\n",
       "      <td>0.483825</td>\n",
       "      <td>0.988779</td>\n",
       "    </tr>\n",
       "    <tr>\n",
       "      <th>4</th>\n",
       "      <td>0.913462</td>\n",
       "      <td>0.203333</td>\n",
       "      <td>0.845783</td>\n",
       "      <td>0.505618</td>\n",
       "      <td>0.000543</td>\n",
       "      <td>0.054484</td>\n",
       "      <td>0.987987</td>\n",
       "      <td>0.508986</td>\n",
       "      <td>0.392409</td>\n",
       "    </tr>\n",
       "  </tbody>\n",
       "</table>\n",
       "</div>"
      ],
      "text/plain": [
       "       Year  Duration     Genre    Rating     Votes  Director   Actor 1  \\\n",
       "0  0.980769  0.293333  0.607229  0.662921  0.000005  0.255499  0.698426   \n",
       "1  0.980769  0.296667  0.493976  0.370787  0.000051  0.553976  0.621375   \n",
       "2  0.769231  0.420000  0.421687  0.404494  0.001390  0.636548  0.199254   \n",
       "3  0.846154  0.403333  0.759036  0.707865  0.001828  0.841286  0.363712   \n",
       "4  0.913462  0.203333  0.845783  0.505618  0.000543  0.054484  0.987987   \n",
       "\n",
       "    Actor 2   Actor 3  \n",
       "0  0.979511  0.123102  \n",
       "1  0.310927  0.839274  \n",
       "2  0.030194  0.799340  \n",
       "3  0.483825  0.988779  \n",
       "4  0.508986  0.392409  "
      ]
     },
     "execution_count": 41,
     "metadata": {},
     "output_type": "execute_result"
    }
   ],
   "source": [
    "from sklearn.preprocessing import MinMaxScaler\n",
    "\n",
    "scaler = MinMaxScaler()\n",
    "sc_data = scaler.fit_transform(trans_data)\n",
    "sc_df = pd.DataFrame(sc_data,columns=trans_data.columns)\n",
    "\n",
    "sc_df.head()"
   ]
  },
  {
   "cell_type": "code",
   "execution_count": 44,
   "metadata": {
    "colab": {
     "base_uri": "https://localhost:8080/"
    },
    "id": "Xb8y_JXL3RBJ",
    "outputId": "a96ef0d4-0090-4c8c-ee87-ca67bb7ca45e"
   },
   "outputs": [
    {
     "name": "stdout",
     "output_type": "stream",
     "text": [
      "Rating      1.000000\n",
      "Votes       0.134655\n",
      "Genre       0.122565\n",
      "Actor 2     0.038852\n",
      "Actor 3     0.031550\n",
      "Actor 1     0.025089\n",
      "Duration   -0.001801\n",
      "Director   -0.003678\n",
      "Year       -0.194990\n",
      "Name: Rating, dtype: float64\n"
     ]
    }
   ],
   "source": [
    "corr_df = trans_data.select_dtypes(include='number').corr()\n",
    "result = corr_df['Rating'].sort_values(ascending=False)\n",
    "print(result)\n"
   ]
  },
  {
   "cell_type": "code",
   "execution_count": 45,
   "metadata": {
    "colab": {
     "base_uri": "https://localhost:8080/",
     "height": 499
    },
    "id": "itqTmSpb57WE",
    "outputId": "019ffc41-170a-47d5-d8de-a2a3df0fa0e9"
   },
   "outputs": [
    {
     "data": {
      "text/plain": [
       "<AxesSubplot:>"
      ]
     },
     "execution_count": 45,
     "metadata": {},
     "output_type": "execute_result"
    },
    {
     "data": {
      "image/png": "[encoded data removed]",
      "text/plain": [
       "<Figure size 432x288 with 2 Axes>"
      ]
     },
     "metadata": {
      "needs_background": "light"
     },
     "output_type": "display_data"
    }
   ],
   "source": [
    "sns.heatmap(corr_df,annot=False,cmap=\"coolwarm\")"
   ]
  },
  {
   "cell_type": "code",
   "execution_count": 46,
   "metadata": {
    "id": "3YQAOVoL6af3"
   },
   "outputs": [],
   "source": [
    "from sklearn.model_selection import train_test_split\n",
    "from sklearn.linear_model import LinearRegression\n",
    "from sklearn.tree import DecisionTreeRegressor\n",
    "from sklearn.metrics import mean_squared_error,mean_absolute_error,r2_score"
   ]
  },
  {
   "cell_type": "code",
   "execution_count": 47,
   "metadata": {
    "colab": {
     "base_uri": "https://localhost:8080/",
     "height": 75
    },
    "id": "IxqBTgQLLrwc",
    "outputId": "d537649f-62f2-46fa-e1b1-cb95d9d50ff6"
   },
   "outputs": [
    {
     "data": {
      "text/plain": [
       "LinearRegression()"
      ]
     },
     "execution_count": 47,
     "metadata": {},
     "output_type": "execute_result"
    }
   ],
   "source": [
    "X = trans_data.drop(['Rating'],axis=1)\n",
    "\n",
    "y = trans_data['Rating']\n",
    "\n",
    "X_train,X_test,y_train,y_test = train_test_split(X,y,test_size=0.3,random_state=42)\n",
    "\n",
    "model = LinearRegression()\n",
    "model.fit(X_train,y_train)"
   ]
  },
  {
   "cell_type": "code",
   "execution_count": 48,
   "metadata": {
    "id": "tCjfBC62NvoE"
   },
   "outputs": [],
   "source": [
    "X_test = np.array(X_test)"
   ]
  },
  {
   "cell_type": "code",
   "execution_count": 49,
   "metadata": {
    "colab": {
     "base_uri": "https://localhost:8080/"
    },
    "id": "6GTP7arkOG8z",
    "outputId": "c4eea6aa-697d-4a17-b769-8a061b1a9397"
   },
   "outputs": [
    {
     "data": {
      "text/plain": [
       "array([6.38173569, 6.27438422, 6.24148256, ..., 5.6990634 , 6.25823896,\n",
       "       6.09526622])"
      ]
     },
     "execution_count": 49,
     "metadata": {},
     "output_type": "execute_result"
    }
   ],
   "source": [
    "y_pred = model.predict(X_test)\n",
    "y_pred"
   ]
  },
  {
   "cell_type": "code",
   "execution_count": 50,
   "metadata": {
    "colab": {
     "base_uri": "https://localhost:8080/"
    },
    "id": "eQDsdO3MQzVt",
    "outputId": "d6924405-08eb-41f5-8b4b-c02368446b8a"
   },
   "outputs": [
    {
     "name": "stdout",
     "output_type": "stream",
     "text": [
      "R2 score:  0.0848334767203478\n",
      "Mean squared error:  1.6972873264362005\n",
      "Mean absolute error:  1.0286370452288056\n"
     ]
    }
   ],
   "source": [
    "print('R2 score: ',r2_score(y_test,y_pred))\n",
    "print('Mean squared error: ',mean_squared_error(y_test,y_pred))\n",
    "print('Mean absolute error: ',mean_absolute_error(y_test,y_pred))"
   ]
  },
  {
   "cell_type": "code",
   "execution_count": 51,
   "metadata": {
    "colab": {
     "base_uri": "https://localhost:8080/"
    },
    "id": "HrB6Jk9iPYJ7",
    "outputId": "ee8abdfa-f195-4632-8e62-bcabf227af30"
   },
   "outputs": [
    {
     "name": "stdout",
     "output_type": "stream",
     "text": [
      "6241     7.4\n",
      "3321     4.9\n",
      "6117     6.5\n",
      "5975     5.7\n",
      "6653     7.0\n",
      "        ... \n",
      "14566    3.5\n",
      "10966    5.2\n",
      "10168    2.7\n",
      "14796    4.9\n",
      "2785     8.0\n",
      "Name: Rating, Length: 2268, dtype: float64\n"
     ]
    }
   ],
   "source": [
    "print(y_test)"
   ]
  },
  {
   "cell_type": "code",
   "execution_count": 355,
   "metadata": {
    "id": "2372ozAKPjGT"
   },
   "outputs": [],
   "source": []
  }
 ],
 "metadata": {
  "colab": {
   "provenance": []
  },
  "kernelspec": {
   "display_name": "Python 3 (ipykernel)",
   "language": "python",
   "name": "python3"
  },
  "language_info": {
   "codemirror_mode": {
    "name": "ipython",
    "version": 3
   },
   "file_extension": ".py",
   "mimetype": "text/x-python",
   "name": "python",
   "nbconvert_exporter": "python",
   "pygments_lexer": "ipython3",
   "version": "3.9.7"
  }
 },
 "nbformat": 4,
 "nbformat_minor": 1
}
